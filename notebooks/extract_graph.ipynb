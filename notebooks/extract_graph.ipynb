{
 "cells": [
  {
   "cell_type": "markdown",
   "metadata": {},
   "source": [
    "## Setup"
   ]
  },
  {
   "cell_type": "code",
   "execution_count": 1,
   "metadata": {},
   "outputs": [
    {
     "name": "stderr",
     "output_type": "stream",
     "text": [
      "/tmp/ipykernel_761408/2673649470.py:1: DeprecationWarning: \n",
      "Pyarrow will become a required dependency of pandas in the next major release of pandas (pandas 3.0),\n",
      "(to allow more performant data types, such as the Arrow string type, and better interoperability with other libraries)\n",
      "but was not found to be installed on your system.\n",
      "If this would cause problems for you,\n",
      "please provide us feedback at https://github.com/pandas-dev/pandas/issues/54466\n",
      "        \n",
      "  import pandas as pd\n"
     ]
    }
   ],
   "source": [
    "import pandas as pd\n",
    "import numpy as np\n",
    "import os\n",
    "from langchain.document_loaders import PyPDFLoader, UnstructuredPDFLoader, PyPDFium2Loader\n",
    "from langchain.document_loaders import PyPDFDirectoryLoader, DirectoryLoader\n",
    "from langchain.text_splitter import RecursiveCharacterTextSplitter\n",
    "from pathlib import Path\n",
    "import random\n",
    "\n",
    "## Input data directory\n",
    "data_dir = \"ag_news\"\n",
    "inputdirectory = Path(f\"./data/input/{data_dir}\")\n",
    "## This is where the output csv files will be written\n",
    "out_dir = data_dir\n",
    "outputdirectory = Path(f\"./data/output/{out_dir}\")"
   ]
  },
  {
   "cell_type": "code",
   "execution_count": 2,
   "metadata": {},
   "outputs": [],
   "source": [
    "ag_news = pd.read_csv(\"data/ag_news_train.csv\", header=None)"
   ]
  },
  {
   "cell_type": "code",
   "execution_count": 3,
   "metadata": {},
   "outputs": [],
   "source": [
    "# ag_news_txt = ag_news[2].str.cat(sep=\"\\n\")\n",
    "ag_news_txt = ag_news[2].iloc[:50].str.cat(sep=\"\\n\")"
   ]
  },
  {
   "cell_type": "code",
   "execution_count": 4,
   "metadata": {},
   "outputs": [],
   "source": [
    "with open(\"data/input/ag_news/ag_news.txt\", \"w\") as f:\n",
    "    f.write(ag_news_txt)"
   ]
  },
  {
   "cell_type": "markdown",
   "metadata": {},
   "source": [
    "## Load Documents"
   ]
  },
  {
   "cell_type": "code",
   "execution_count": 5,
   "metadata": {},
   "outputs": [
    {
     "name": "stderr",
     "output_type": "stream",
     "text": [
      "100%|█████████████████████████████████████████████| 1/1 [00:01<00:00,  1.09s/it]"
     ]
    },
    {
     "name": "stdout",
     "output_type": "stream",
     "text": [
      "Number of chunks =  7\n",
      "Interest rates are trimmed to 7.5 by the South African central bank,  but the lack of warning hits the rand and surprises markets.\n",
      "\n",
      "The cost of buying both new and second hand cars fell sharply over the past five years, a new survey has found.\n",
      "\n",
      "South Korea's central bank cuts interest rates by a quarter percentage point to 3.5 in a bid to drive growth in the economy.\n",
      "\n",
      "An auction of shares in Google, the web search engine which could be floated for as much as \\$36bn, takes place on Friday.\n",
      "\n",
      "Hewlett-Packard shares fall after disappointing third-quarter profits, while the firm warns the final quarter will also fall short of expectations.\n",
      "\n",
      "One of the oldest textile operators on the Indian Ocean island of Mauritius last week shut seven factories and cut 900 jobs.\n",
      "\n",
      "Chad asks the IMF for a loan to pay for looking after more than 100,000 refugees from conflict-torn Darfur in western Sudan.\n",
      "\n",
      "The company running the Japanese nuclear plant hit by a fatal accident is to close its reactors for safety checks.\n",
      "\n",
      "Trevor Baylis, the veteran inventor famous for creating the Freeplay clockwork radio, is planning to float his company on the stock market.\n",
      "\n",
      "Saudi Arabia says it is ready to push an extra 1.3 million barrels a day of oil into the market, to help reverse surging prices.\n",
      "\n",
      "A group led by the UAE's Etisalat plans to spend \\$1bn (544m) on expansion after winning two mobile phone licences in Saudi Arabia.\n"
     ]
    },
    {
     "name": "stderr",
     "output_type": "stream",
     "text": [
      "\n"
     ]
    }
   ],
   "source": [
    "## Dir PDF Loader\n",
    "# loader = PyPDFDirectoryLoader(inputdirectory)\n",
    "## File Loader\n",
    "# loader = PyPDFLoader(\"./data/MedicalDocuments/orf-path_health-n1.pdf\")\n",
    "loader = DirectoryLoader(inputdirectory, show_progress=True)\n",
    "documents = loader.load()\n",
    "\n",
    "splitter = RecursiveCharacterTextSplitter(\n",
    "    chunk_size=1500,\n",
    "    chunk_overlap=150,\n",
    "    length_function=len,\n",
    "    is_separator_regex=False,\n",
    ")\n",
    "\n",
    "pages = splitter.split_documents(documents)\n",
    "print(\"Number of chunks = \", len(pages))\n",
    "print(pages[3].page_content)\n"
   ]
  },
  {
   "cell_type": "markdown",
   "metadata": {},
   "source": [
    "## Create a dataframe of all the chunks"
   ]
  },
  {
   "cell_type": "code",
   "execution_count": 6,
   "metadata": {
    "editable": true,
    "slideshow": {
     "slide_type": ""
    },
    "tags": []
   },
   "outputs": [
    {
     "name": "stdout",
     "output_type": "stream",
     "text": [
      "(7, 3)\n"
     ]
    },
    {
     "name": "stderr",
     "output_type": "stream",
     "text": [
      "/home/kleptotrace/miniforge3/envs/knowledge-graph/lib/python3.11/site-packages/tqdm/auto.py:21: TqdmWarning: IProgress not found. Please update jupyter and ipywidgets. See https://ipywidgets.readthedocs.io/en/stable/user_install.html\n",
      "  from .autonotebook import tqdm as notebook_tqdm\n"
     ]
    },
    {
     "data": {
      "text/html": [
       "<div>\n",
       "<style scoped>\n",
       "    .dataframe tbody tr th:only-of-type {\n",
       "        vertical-align: middle;\n",
       "    }\n",
       "\n",
       "    .dataframe tbody tr th {\n",
       "        vertical-align: top;\n",
       "    }\n",
       "\n",
       "    .dataframe thead th {\n",
       "        text-align: right;\n",
       "    }\n",
       "</style>\n",
       "<table border=\"1\" class=\"dataframe\">\n",
       "  <thead>\n",
       "    <tr style=\"text-align: right;\">\n",
       "      <th></th>\n",
       "      <th>text</th>\n",
       "      <th>source</th>\n",
       "      <th>chunk_id</th>\n",
       "    </tr>\n",
       "  </thead>\n",
       "  <tbody>\n",
       "    <tr>\n",
       "      <th>0</th>\n",
       "      <td>Reuters - Short-sellers, Wall Street's dwindli...</td>\n",
       "      <td>data/input/ag_news/ag_news.txt</td>\n",
       "      <td>a6d6a114fedc489e8e728f52442e132c</td>\n",
       "    </tr>\n",
       "    <tr>\n",
       "      <th>1</th>\n",
       "      <td>Forbes.com - After earning a PH.D. in Sociolog...</td>\n",
       "      <td>data/input/ag_news/ag_news.txt</td>\n",
       "      <td>17c75d86ec4a4cf6bd7528d8f66dde06</td>\n",
       "    </tr>\n",
       "    <tr>\n",
       "      <th>2</th>\n",
       "      <td>NEW YORK (Reuters) - The dollar tumbled broadl...</td>\n",
       "      <td>data/input/ag_news/ag_news.txt</td>\n",
       "      <td>f4e13a0503b041dbb14832734c0503cb</td>\n",
       "    </tr>\n",
       "    <tr>\n",
       "      <th>3</th>\n",
       "      <td>Interest rates are trimmed to 7.5 by the South...</td>\n",
       "      <td>data/input/ag_news/ag_news.txt</td>\n",
       "      <td>f58cdfcced924ea9a14b253aeaf857ad</td>\n",
       "    </tr>\n",
       "    <tr>\n",
       "      <th>4</th>\n",
       "      <td>A group led by the UAE's Etisalat plans to spe...</td>\n",
       "      <td>data/input/ag_news/ag_news.txt</td>\n",
       "      <td>924634f821b34f5dac95b6b3cbe6500e</td>\n",
       "    </tr>\n",
       "  </tbody>\n",
       "</table>\n",
       "</div>"
      ],
      "text/plain": [
       "                                                text  \\\n",
       "0  Reuters - Short-sellers, Wall Street's dwindli...   \n",
       "1  Forbes.com - After earning a PH.D. in Sociolog...   \n",
       "2  NEW YORK (Reuters) - The dollar tumbled broadl...   \n",
       "3  Interest rates are trimmed to 7.5 by the South...   \n",
       "4  A group led by the UAE's Etisalat plans to spe...   \n",
       "\n",
       "                           source                          chunk_id  \n",
       "0  data/input/ag_news/ag_news.txt  a6d6a114fedc489e8e728f52442e132c  \n",
       "1  data/input/ag_news/ag_news.txt  17c75d86ec4a4cf6bd7528d8f66dde06  \n",
       "2  data/input/ag_news/ag_news.txt  f4e13a0503b041dbb14832734c0503cb  \n",
       "3  data/input/ag_news/ag_news.txt  f58cdfcced924ea9a14b253aeaf857ad  \n",
       "4  data/input/ag_news/ag_news.txt  924634f821b34f5dac95b6b3cbe6500e  "
      ]
     },
     "execution_count": 6,
     "metadata": {},
     "output_type": "execute_result"
    }
   ],
   "source": [
    "from helpers.df_helpers import documents2Dataframe\n",
    "df = documents2Dataframe(pages)\n",
    "print(df.shape)\n",
    "df.head()"
   ]
  },
  {
   "cell_type": "markdown",
   "metadata": {},
   "source": [
    "## Extract Concepts"
   ]
  },
  {
   "cell_type": "code",
   "execution_count": 7,
   "metadata": {},
   "outputs": [],
   "source": [
    "## This function uses the helpers/prompt function to extract concepts from text\n",
    "from helpers.df_helpers import df2Graph\n",
    "from helpers.df_helpers import graph2Df"
   ]
  },
  {
   "cell_type": "markdown",
   "metadata": {},
   "source": [
    "If regenerate is set to True then the dataframes are regenerated and Both the dataframes are written in the csv format so we dont have to calculate them again. \n",
    "\n",
    "        dfne = dataframe of edges\n",
    "\n",
    "        df = dataframe of chunks\n",
    "\n",
    "\n",
    "Else the dataframes are read from the output directory"
   ]
  },
  {
   "cell_type": "code",
   "execution_count": 8,
   "metadata": {
    "editable": true,
    "slideshow": {
     "slide_type": ""
    },
    "tags": []
   },
   "outputs": [
    {
     "name": "stderr",
     "output_type": "stream",
     "text": [
      "100%|█████████████████████████████████████████████| 7/7 [00:34<00:00,  4.94s/it]"
     ]
    },
    {
     "name": "stdout",
     "output_type": "stream",
     "text": [
      "Possibly due to JSON Decode Error, 1 chunks have been skipped\n",
      "(49, 5)\n"
     ]
    },
    {
     "name": "stderr",
     "output_type": "stream",
     "text": [
      "\n"
     ]
    },
    {
     "data": {
      "text/html": [
       "<div>\n",
       "<style scoped>\n",
       "    .dataframe tbody tr th:only-of-type {\n",
       "        vertical-align: middle;\n",
       "    }\n",
       "\n",
       "    .dataframe tbody tr th {\n",
       "        vertical-align: top;\n",
       "    }\n",
       "\n",
       "    .dataframe thead th {\n",
       "        text-align: right;\n",
       "    }\n",
       "</style>\n",
       "<table border=\"1\" class=\"dataframe\">\n",
       "  <thead>\n",
       "    <tr style=\"text-align: right;\">\n",
       "      <th></th>\n",
       "      <th>node_1</th>\n",
       "      <th>node_2</th>\n",
       "      <th>edge</th>\n",
       "      <th>chunk_id</th>\n",
       "      <th>count</th>\n",
       "    </tr>\n",
       "  </thead>\n",
       "  <tbody>\n",
       "    <tr>\n",
       "      <th>0</th>\n",
       "      <td>short-sellers</td>\n",
       "      <td>well-timed and occasionally controversial play...</td>\n",
       "      <td>Carlyle Group, a private investment firm with ...</td>\n",
       "      <td>a6d6a114fedc489e8e728f52442e132c</td>\n",
       "      <td>4</td>\n",
       "    </tr>\n",
       "    <tr>\n",
       "      <th>1</th>\n",
       "      <td>oil prices</td>\n",
       "      <td>economy</td>\n",
       "      <td>Soaring crude prices plus worries about the ec...</td>\n",
       "      <td>a6d6a114fedc489e8e728f52442e132c</td>\n",
       "      <td>4</td>\n",
       "    </tr>\n",
       "    <tr>\n",
       "      <th>2</th>\n",
       "      <td>oil export flows</td>\n",
       "      <td>intelligence showed a rebel militia could stri...</td>\n",
       "      <td>Authorities have halted oil export flows from ...</td>\n",
       "      <td>a6d6a114fedc489e8e728f52442e132c</td>\n",
       "      <td>4</td>\n",
       "    </tr>\n",
       "    <tr>\n",
       "      <th>3</th>\n",
       "      <td>tearaway world oil prices</td>\n",
       "      <td>straining wallets</td>\n",
       "      <td>Tearaway world oil prices, toppling records an...</td>\n",
       "      <td>a6d6a114fedc489e8e728f52442e132c</td>\n",
       "      <td>4</td>\n",
       "    </tr>\n",
       "    <tr>\n",
       "      <th>4</th>\n",
       "      <td>stocks</td>\n",
       "      <td>lowest for the year</td>\n",
       "      <td>Stocks ended slightly higher on Friday but sta...</td>\n",
       "      <td>a6d6a114fedc489e8e728f52442e132c</td>\n",
       "      <td>4</td>\n",
       "    </tr>\n",
       "  </tbody>\n",
       "</table>\n",
       "</div>"
      ],
      "text/plain": [
       "                      node_1  \\\n",
       "0              short-sellers   \n",
       "1                 oil prices   \n",
       "2           oil export flows   \n",
       "3  tearaway world oil prices   \n",
       "4                     stocks   \n",
       "\n",
       "                                              node_2  \\\n",
       "0  well-timed and occasionally controversial play...   \n",
       "1                                            economy   \n",
       "2  intelligence showed a rebel militia could stri...   \n",
       "3                                  straining wallets   \n",
       "4                                lowest for the year   \n",
       "\n",
       "                                                edge  \\\n",
       "0  Carlyle Group, a private investment firm with ...   \n",
       "1  Soaring crude prices plus worries about the ec...   \n",
       "2  Authorities have halted oil export flows from ...   \n",
       "3  Tearaway world oil prices, toppling records an...   \n",
       "4  Stocks ended slightly higher on Friday but sta...   \n",
       "\n",
       "                           chunk_id  count  \n",
       "0  a6d6a114fedc489e8e728f52442e132c      4  \n",
       "1  a6d6a114fedc489e8e728f52442e132c      4  \n",
       "2  a6d6a114fedc489e8e728f52442e132c      4  \n",
       "3  a6d6a114fedc489e8e728f52442e132c      4  \n",
       "4  a6d6a114fedc489e8e728f52442e132c      4  "
      ]
     },
     "execution_count": 8,
     "metadata": {},
     "output_type": "execute_result"
    }
   ],
   "source": [
    "## To regenerate the graph with LLM, set this to True\n",
    "regenerate = True\n",
    "\n",
    "if regenerate:\n",
    "    concepts_list = df2Graph(df, model='zephyr:latest')\n",
    "    dfg1 = graph2Df(concepts_list)\n",
    "    if not os.path.exists(outputdirectory):\n",
    "        os.makedirs(outputdirectory)\n",
    "    \n",
    "    dfg1.to_csv(outputdirectory/\"graph.csv\", sep=\"|\", index=False)\n",
    "    df.to_csv(outputdirectory/\"chunks.csv\", sep=\"|\", index=False)\n",
    "else:\n",
    "    dfg1 = pd.read_csv(outputdirectory/\"graph.csv\", sep=\"|\")\n",
    "\n",
    "dfg1.replace(\"\", np.nan, inplace=True)\n",
    "dfg1.dropna(subset=[\"node_1\", \"node_2\", 'edge'], inplace=True)\n",
    "dfg1['count'] = 4 \n",
    "## Increasing the weight of the relation to 4. \n",
    "## We will assign the weight of 1 when later the contextual proximity will be calculated.  \n",
    "print(dfg1.shape)\n",
    "dfg1.head()"
   ]
  },
  {
   "cell_type": "markdown",
   "metadata": {},
   "source": [
    "## Calculating contextual proximity"
   ]
  },
  {
   "cell_type": "code",
   "execution_count": 9,
   "metadata": {},
   "outputs": [
    {
     "data": {
      "text/html": [
       "<div>\n",
       "<style scoped>\n",
       "    .dataframe tbody tr th:only-of-type {\n",
       "        vertical-align: middle;\n",
       "    }\n",
       "\n",
       "    .dataframe tbody tr th {\n",
       "        vertical-align: top;\n",
       "    }\n",
       "\n",
       "    .dataframe thead th {\n",
       "        text-align: right;\n",
       "    }\n",
       "</style>\n",
       "<table border=\"1\" class=\"dataframe\">\n",
       "  <thead>\n",
       "    <tr style=\"text-align: right;\">\n",
       "      <th></th>\n",
       "      <th>node_1</th>\n",
       "      <th>node_2</th>\n",
       "      <th>chunk_id</th>\n",
       "      <th>count</th>\n",
       "      <th>edge</th>\n",
       "    </tr>\n",
       "  </thead>\n",
       "  <tbody>\n",
       "    <tr>\n",
       "      <th>1371</th>\n",
       "      <td>us economy</td>\n",
       "      <td>underlings</td>\n",
       "      <td>aff297e3bd6647a7bbb7e5227c3fa6d4,aff297e3bd664...</td>\n",
       "      <td>2</td>\n",
       "      <td>contextual proximity</td>\n",
       "    </tr>\n",
       "    <tr>\n",
       "      <th>1372</th>\n",
       "      <td>us economy</td>\n",
       "      <td>uzis and ak-47s</td>\n",
       "      <td>aff297e3bd6647a7bbb7e5227c3fa6d4,aff297e3bd664...</td>\n",
       "      <td>2</td>\n",
       "      <td>contextual proximity</td>\n",
       "    </tr>\n",
       "    <tr>\n",
       "      <th>1382</th>\n",
       "      <td>uzis and ak-47s</td>\n",
       "      <td>microsoft</td>\n",
       "      <td>aff297e3bd6647a7bbb7e5227c3fa6d4,aff297e3bd664...</td>\n",
       "      <td>2</td>\n",
       "      <td>contextual proximity</td>\n",
       "    </tr>\n",
       "    <tr>\n",
       "      <th>1389</th>\n",
       "      <td>uzis and ak-47s</td>\n",
       "      <td>us economy</td>\n",
       "      <td>aff297e3bd6647a7bbb7e5227c3fa6d4,aff297e3bd664...</td>\n",
       "      <td>2</td>\n",
       "      <td>contextual proximity</td>\n",
       "    </tr>\n",
       "    <tr>\n",
       "      <th>1412</th>\n",
       "      <td>value-focused mutual funds</td>\n",
       "      <td>trade deficit</td>\n",
       "      <td>f4e13a0503b041dbb14832734c0503cb,f4e13a0503b04...</td>\n",
       "      <td>3</td>\n",
       "      <td>contextual proximity</td>\n",
       "    </tr>\n",
       "  </tbody>\n",
       "</table>\n",
       "</div>"
      ],
      "text/plain": [
       "                          node_1           node_2  \\\n",
       "1371                  us economy       underlings   \n",
       "1372                  us economy  uzis and ak-47s   \n",
       "1382             uzis and ak-47s        microsoft   \n",
       "1389             uzis and ak-47s       us economy   \n",
       "1412  value-focused mutual funds    trade deficit   \n",
       "\n",
       "                                               chunk_id  count  \\\n",
       "1371  aff297e3bd6647a7bbb7e5227c3fa6d4,aff297e3bd664...      2   \n",
       "1372  aff297e3bd6647a7bbb7e5227c3fa6d4,aff297e3bd664...      2   \n",
       "1382  aff297e3bd6647a7bbb7e5227c3fa6d4,aff297e3bd664...      2   \n",
       "1389  aff297e3bd6647a7bbb7e5227c3fa6d4,aff297e3bd664...      2   \n",
       "1412  f4e13a0503b041dbb14832734c0503cb,f4e13a0503b04...      3   \n",
       "\n",
       "                      edge  \n",
       "1371  contextual proximity  \n",
       "1372  contextual proximity  \n",
       "1382  contextual proximity  \n",
       "1389  contextual proximity  \n",
       "1412  contextual proximity  "
      ]
     },
     "execution_count": 9,
     "metadata": {},
     "output_type": "execute_result"
    }
   ],
   "source": [
    "def contextual_proximity(df: pd.DataFrame) -> pd.DataFrame:\n",
    "    ## Melt the dataframe into a list of nodes\n",
    "    dfg_long = pd.melt(\n",
    "        df, id_vars=[\"chunk_id\"], value_vars=[\"node_1\", \"node_2\"], value_name=\"node\"\n",
    "    )\n",
    "    dfg_long.drop(columns=[\"variable\"], inplace=True)\n",
    "    # Self join with chunk id as the key will create a link between terms occuring in the same text chunk.\n",
    "    dfg_wide = pd.merge(dfg_long, dfg_long, on=\"chunk_id\", suffixes=(\"_1\", \"_2\"))\n",
    "    # drop self loops\n",
    "    self_loops_drop = dfg_wide[dfg_wide[\"node_1\"] == dfg_wide[\"node_2\"]].index\n",
    "    dfg2 = dfg_wide.drop(index=self_loops_drop).reset_index(drop=True)\n",
    "    ## Group and count edges.\n",
    "    dfg2 = (\n",
    "        dfg2.groupby([\"node_1\", \"node_2\"])\n",
    "        .agg({\"chunk_id\": [\",\".join, \"count\"]})\n",
    "        .reset_index()\n",
    "    )\n",
    "    dfg2.columns = [\"node_1\", \"node_2\", \"chunk_id\", \"count\"]\n",
    "    dfg2.replace(\"\", np.nan, inplace=True)\n",
    "    dfg2.dropna(subset=[\"node_1\", \"node_2\"], inplace=True)\n",
    "    # Drop edges with 1 count\n",
    "    dfg2 = dfg2[dfg2[\"count\"] != 1]\n",
    "    dfg2[\"edge\"] = \"contextual proximity\"\n",
    "    return dfg2\n",
    "\n",
    "\n",
    "dfg2 = contextual_proximity(dfg1)\n",
    "dfg2.tail()"
   ]
  },
  {
   "cell_type": "markdown",
   "metadata": {},
   "source": [
    "### Merge both the dataframes"
   ]
  },
  {
   "cell_type": "code",
   "execution_count": 10,
   "metadata": {},
   "outputs": [
    {
     "data": {
      "text/html": [
       "<div>\n",
       "<style scoped>\n",
       "    .dataframe tbody tr th:only-of-type {\n",
       "        vertical-align: middle;\n",
       "    }\n",
       "\n",
       "    .dataframe tbody tr th {\n",
       "        vertical-align: top;\n",
       "    }\n",
       "\n",
       "    .dataframe thead th {\n",
       "        text-align: right;\n",
       "    }\n",
       "</style>\n",
       "<table border=\"1\" class=\"dataframe\">\n",
       "  <thead>\n",
       "    <tr style=\"text-align: right;\">\n",
       "      <th></th>\n",
       "      <th>node_1</th>\n",
       "      <th>node_2</th>\n",
       "      <th>chunk_id</th>\n",
       "      <th>edge</th>\n",
       "      <th>count</th>\n",
       "    </tr>\n",
       "  </thead>\n",
       "  <tbody>\n",
       "    <tr>\n",
       "      <th>0</th>\n",
       "      <td>abusers of legal weapons</td>\n",
       "      <td>microsoft</td>\n",
       "      <td>aff297e3bd6647a7bbb7e5227c3fa6d4,aff297e3bd664...</td>\n",
       "      <td>contextual proximity</td>\n",
       "      <td>2</td>\n",
       "    </tr>\n",
       "    <tr>\n",
       "      <th>1</th>\n",
       "      <td>abusers of legal weapons</td>\n",
       "      <td>outrage</td>\n",
       "      <td>aff297e3bd6647a7bbb7e5227c3fa6d4</td>\n",
       "      <td>Target the abusers of legal weapons We can all...</td>\n",
       "      <td>4</td>\n",
       "    </tr>\n",
       "    <tr>\n",
       "      <th>2</th>\n",
       "      <td>abusers of legal weapons</td>\n",
       "      <td>us economy</td>\n",
       "      <td>aff297e3bd6647a7bbb7e5227c3fa6d4,aff297e3bd664...</td>\n",
       "      <td>contextual proximity</td>\n",
       "      <td>2</td>\n",
       "    </tr>\n",
       "    <tr>\n",
       "      <th>3</th>\n",
       "      <td>assets of retail money market mutual funds</td>\n",
       "      <td>$849.98 trillion</td>\n",
       "      <td>a6d6a114fedc489e8e728f52442e132c</td>\n",
       "      <td>Assets of the nation's retail money market mut...</td>\n",
       "      <td>4</td>\n",
       "    </tr>\n",
       "    <tr>\n",
       "      <th>4</th>\n",
       "      <td>bidding</td>\n",
       "      <td>trade deficit</td>\n",
       "      <td>f4e13a0503b041dbb14832734c0503cb,f4e13a0503b04...</td>\n",
       "      <td>contextual proximity</td>\n",
       "      <td>3</td>\n",
       "    </tr>\n",
       "    <tr>\n",
       "      <th>...</th>\n",
       "      <td>...</td>\n",
       "      <td>...</td>\n",
       "      <td>...</td>\n",
       "      <td>...</td>\n",
       "      <td>...</td>\n",
       "    </tr>\n",
       "    <tr>\n",
       "      <th>189</th>\n",
       "      <td>uzis and ak-47s</td>\n",
       "      <td>flooding the streets</td>\n",
       "      <td>aff297e3bd6647a7bbb7e5227c3fa6d4</td>\n",
       "      <td>Columnist Steve Bailey's argument that otherwi...</td>\n",
       "      <td>4</td>\n",
       "    </tr>\n",
       "    <tr>\n",
       "      <th>190</th>\n",
       "      <td>uzis and ak-47s</td>\n",
       "      <td>microsoft</td>\n",
       "      <td>aff297e3bd6647a7bbb7e5227c3fa6d4,aff297e3bd664...</td>\n",
       "      <td>contextual proximity</td>\n",
       "      <td>2</td>\n",
       "    </tr>\n",
       "    <tr>\n",
       "      <th>191</th>\n",
       "      <td>uzis and ak-47s</td>\n",
       "      <td>us economy</td>\n",
       "      <td>aff297e3bd6647a7bbb7e5227c3fa6d4,aff297e3bd664...</td>\n",
       "      <td>contextual proximity</td>\n",
       "      <td>2</td>\n",
       "    </tr>\n",
       "    <tr>\n",
       "      <th>192</th>\n",
       "      <td>value-focused mutual funds</td>\n",
       "      <td>losses</td>\n",
       "      <td>f4e13a0503b041dbb14832734c0503cb</td>\n",
       "      <td>Investors in value-focused mutual funds have r...</td>\n",
       "      <td>4</td>\n",
       "    </tr>\n",
       "    <tr>\n",
       "      <th>193</th>\n",
       "      <td>value-focused mutual funds</td>\n",
       "      <td>trade deficit</td>\n",
       "      <td>f4e13a0503b041dbb14832734c0503cb,f4e13a0503b04...</td>\n",
       "      <td>contextual proximity</td>\n",
       "      <td>3</td>\n",
       "    </tr>\n",
       "  </tbody>\n",
       "</table>\n",
       "<p>194 rows × 5 columns</p>\n",
       "</div>"
      ],
      "text/plain": [
       "                                         node_1                node_2  \\\n",
       "0                      abusers of legal weapons             microsoft   \n",
       "1                      abusers of legal weapons               outrage   \n",
       "2                      abusers of legal weapons            us economy   \n",
       "3    assets of retail money market mutual funds      $849.98 trillion   \n",
       "4                                       bidding         trade deficit   \n",
       "..                                          ...                   ...   \n",
       "189                             uzis and ak-47s  flooding the streets   \n",
       "190                             uzis and ak-47s             microsoft   \n",
       "191                             uzis and ak-47s            us economy   \n",
       "192                  value-focused mutual funds                losses   \n",
       "193                  value-focused mutual funds         trade deficit   \n",
       "\n",
       "                                              chunk_id  \\\n",
       "0    aff297e3bd6647a7bbb7e5227c3fa6d4,aff297e3bd664...   \n",
       "1                     aff297e3bd6647a7bbb7e5227c3fa6d4   \n",
       "2    aff297e3bd6647a7bbb7e5227c3fa6d4,aff297e3bd664...   \n",
       "3                     a6d6a114fedc489e8e728f52442e132c   \n",
       "4    f4e13a0503b041dbb14832734c0503cb,f4e13a0503b04...   \n",
       "..                                                 ...   \n",
       "189                   aff297e3bd6647a7bbb7e5227c3fa6d4   \n",
       "190  aff297e3bd6647a7bbb7e5227c3fa6d4,aff297e3bd664...   \n",
       "191  aff297e3bd6647a7bbb7e5227c3fa6d4,aff297e3bd664...   \n",
       "192                   f4e13a0503b041dbb14832734c0503cb   \n",
       "193  f4e13a0503b041dbb14832734c0503cb,f4e13a0503b04...   \n",
       "\n",
       "                                                  edge  count  \n",
       "0                                 contextual proximity      2  \n",
       "1    Target the abusers of legal weapons We can all...      4  \n",
       "2                                 contextual proximity      2  \n",
       "3    Assets of the nation's retail money market mut...      4  \n",
       "4                                 contextual proximity      3  \n",
       "..                                                 ...    ...  \n",
       "189  Columnist Steve Bailey's argument that otherwi...      4  \n",
       "190                               contextual proximity      2  \n",
       "191                               contextual proximity      2  \n",
       "192  Investors in value-focused mutual funds have r...      4  \n",
       "193                               contextual proximity      3  \n",
       "\n",
       "[194 rows x 5 columns]"
      ]
     },
     "execution_count": 10,
     "metadata": {},
     "output_type": "execute_result"
    }
   ],
   "source": [
    "dfg = pd.concat([dfg1, dfg2], axis=0)\n",
    "dfg = (\n",
    "    dfg.groupby([\"node_1\", \"node_2\"])\n",
    "    .agg({\"chunk_id\": \",\".join, \"edge\": ','.join, 'count': 'sum'})\n",
    "    .reset_index()\n",
    ")\n",
    "dfg"
   ]
  },
  {
   "cell_type": "markdown",
   "metadata": {},
   "source": [
    "## Calculate the NetworkX Graph"
   ]
  },
  {
   "cell_type": "code",
   "execution_count": 11,
   "metadata": {},
   "outputs": [
    {
     "data": {
      "text/plain": [
       "(87,)"
      ]
     },
     "execution_count": 11,
     "metadata": {},
     "output_type": "execute_result"
    }
   ],
   "source": [
    "nodes = pd.concat([dfg['node_1'], dfg['node_2']], axis=0).unique()\n",
    "nodes.shape"
   ]
  },
  {
   "cell_type": "code",
   "execution_count": 12,
   "metadata": {},
   "outputs": [],
   "source": [
    "import networkx as nx\n",
    "G = nx.Graph()\n",
    "\n",
    "## Add nodes to the graph\n",
    "for node in nodes:\n",
    "    G.add_node(\n",
    "        str(node)\n",
    "    )\n",
    "\n",
    "## Add edges to the graph\n",
    "for index, row in dfg.iterrows():\n",
    "    G.add_edge(\n",
    "        str(row[\"node_1\"]),\n",
    "        str(row[\"node_2\"]),\n",
    "        title=row[\"edge\"],\n",
    "        weight=row['count']/4\n",
    "    )"
   ]
  },
  {
   "cell_type": "markdown",
   "metadata": {},
   "source": [
    "### Calculate communities for coloring the nodes"
   ]
  },
  {
   "cell_type": "code",
   "execution_count": 13,
   "metadata": {},
   "outputs": [
    {
     "name": "stdout",
     "output_type": "stream",
     "text": [
      "Number of Communities =  17\n",
      "[['$849.98 trillion', 'assets of retail money market mutual funds'], ['abusers of legal weapons', 'bill gates', 'blunder', 'competing business', 'flooding the streets', 'gateway artisan block', 'growth', 'improvements', 'marlborough-based technology company', 'microsoft', 'outrage', 'parceled out praise', 'temper', 'turned the corner', 'u-turn', 'underlings', 'us economy', 'uzis and ak-47s'], ['bidding', 'dollar', 'drawing foreign capital', 'economic growth', 'economic recovery', 'eurozone economy', \"google's public offering\", 'imports', 'interest rates', 'japan', \"kids'\", 'last-minute worries', 'later in the year', 'losses', 'oil costs', 'playboy magazine', 'purchasing power', 'shell', 'slowing down', 'south african central bank', 'takeover attempt', 'trade deficit', 'value-focused mutual funds'], ['central square in lynn', 'dell', 'gary winnick', 'global crossing', 'government', 'kevin b. rollins', 'large loss', 'lynn', 'nobility', 'quality distribution', 'russia', 'superpower'], [\"computer search company's giant auction-style initial public offering\", 'forbes.com', 'google inc.', \"iran's opec governor\", 'non-opec oil exporters', 'opec president purnomo yusgiantoro', 'reuters', 'u.s. securities regulators'], ['e-mail', 'success'], ['economy', 'oil prices'], ['experimental drugs', 'nitromed inc.'], ['intelligence showed a rebel militia could strike infrastructure', 'oil export flows'], ['july', 'retail sales'], ['last week', 'new claims for jobless benefits'], ['lowest for the year', 'stocks'], ['massachusetts', 'tax holiday'], ['mobile phone licences in saudi arabia', \"uae's etisalat\"], ['network rail', 'specialist indian engineers'], ['short-sellers', 'well-timed and occasionally controversial plays in the defense industry'], ['straining wallets', 'tearaway world oil prices']]\n"
     ]
    }
   ],
   "source": [
    "communities_generator = nx.community.girvan_newman(G)\n",
    "top_level_communities = next(communities_generator)\n",
    "next_level_communities = next(communities_generator)\n",
    "communities = sorted(map(sorted, next_level_communities))\n",
    "print(\"Number of Communities = \", len(communities))\n",
    "print(communities)"
   ]
  },
  {
   "cell_type": "markdown",
   "metadata": {},
   "source": [
    "### Create a dataframe for community colors"
   ]
  },
  {
   "cell_type": "code",
   "execution_count": 14,
   "metadata": {},
   "outputs": [
    {
     "data": {
      "text/html": [
       "<div>\n",
       "<style scoped>\n",
       "    .dataframe tbody tr th:only-of-type {\n",
       "        vertical-align: middle;\n",
       "    }\n",
       "\n",
       "    .dataframe tbody tr th {\n",
       "        vertical-align: top;\n",
       "    }\n",
       "\n",
       "    .dataframe thead th {\n",
       "        text-align: right;\n",
       "    }\n",
       "</style>\n",
       "<table border=\"1\" class=\"dataframe\">\n",
       "  <thead>\n",
       "    <tr style=\"text-align: right;\">\n",
       "      <th></th>\n",
       "      <th>node</th>\n",
       "      <th>color</th>\n",
       "      <th>group</th>\n",
       "    </tr>\n",
       "  </thead>\n",
       "  <tbody>\n",
       "    <tr>\n",
       "      <th>0</th>\n",
       "      <td>$849.98 trillion</td>\n",
       "      <td>#ad57db</td>\n",
       "      <td>1</td>\n",
       "    </tr>\n",
       "    <tr>\n",
       "      <th>1</th>\n",
       "      <td>assets of retail money market mutual funds</td>\n",
       "      <td>#ad57db</td>\n",
       "      <td>1</td>\n",
       "    </tr>\n",
       "    <tr>\n",
       "      <th>2</th>\n",
       "      <td>abusers of legal weapons</td>\n",
       "      <td>#db5f57</td>\n",
       "      <td>2</td>\n",
       "    </tr>\n",
       "    <tr>\n",
       "      <th>3</th>\n",
       "      <td>bill gates</td>\n",
       "      <td>#db5f57</td>\n",
       "      <td>2</td>\n",
       "    </tr>\n",
       "    <tr>\n",
       "      <th>4</th>\n",
       "      <td>blunder</td>\n",
       "      <td>#db5f57</td>\n",
       "      <td>2</td>\n",
       "    </tr>\n",
       "    <tr>\n",
       "      <th>...</th>\n",
       "      <td>...</td>\n",
       "      <td>...</td>\n",
       "      <td>...</td>\n",
       "    </tr>\n",
       "    <tr>\n",
       "      <th>82</th>\n",
       "      <td>specialist indian engineers</td>\n",
       "      <td>#db577e</td>\n",
       "      <td>15</td>\n",
       "    </tr>\n",
       "    <tr>\n",
       "      <th>83</th>\n",
       "      <td>short-sellers</td>\n",
       "      <td>#57db9d</td>\n",
       "      <td>16</td>\n",
       "    </tr>\n",
       "    <tr>\n",
       "      <th>84</th>\n",
       "      <td>well-timed and occasionally controversial play...</td>\n",
       "      <td>#57db9d</td>\n",
       "      <td>16</td>\n",
       "    </tr>\n",
       "    <tr>\n",
       "      <th>85</th>\n",
       "      <td>straining wallets</td>\n",
       "      <td>#db8d57</td>\n",
       "      <td>17</td>\n",
       "    </tr>\n",
       "    <tr>\n",
       "      <th>86</th>\n",
       "      <td>tearaway world oil prices</td>\n",
       "      <td>#db8d57</td>\n",
       "      <td>17</td>\n",
       "    </tr>\n",
       "  </tbody>\n",
       "</table>\n",
       "<p>87 rows × 3 columns</p>\n",
       "</div>"
      ],
      "text/plain": [
       "                                                 node    color  group\n",
       "0                                    $849.98 trillion  #ad57db      1\n",
       "1          assets of retail money market mutual funds  #ad57db      1\n",
       "2                            abusers of legal weapons  #db5f57      2\n",
       "3                                          bill gates  #db5f57      2\n",
       "4                                             blunder  #db5f57      2\n",
       "..                                                ...      ...    ...\n",
       "82                        specialist indian engineers  #db577e     15\n",
       "83                                      short-sellers  #57db9d     16\n",
       "84  well-timed and occasionally controversial play...  #57db9d     16\n",
       "85                                  straining wallets  #db8d57     17\n",
       "86                          tearaway world oil prices  #db8d57     17\n",
       "\n",
       "[87 rows x 3 columns]"
      ]
     },
     "execution_count": 14,
     "metadata": {},
     "output_type": "execute_result"
    }
   ],
   "source": [
    "import seaborn as sns\n",
    "palette = \"hls\"\n",
    "\n",
    "## Now add these colors to communities and make another dataframe\n",
    "def colors2Community(communities) -> pd.DataFrame:\n",
    "    ## Define a color palette\n",
    "    p = sns.color_palette(palette, len(communities)).as_hex()\n",
    "    random.shuffle(p)\n",
    "    rows = []\n",
    "    group = 0\n",
    "    for community in communities:\n",
    "        color = p.pop()\n",
    "        group += 1\n",
    "        for node in community:\n",
    "            rows.append({\"node\": node, \"color\": color, \"group\": group})\n",
    "    df_colors = pd.DataFrame(rows)\n",
    "    return df_colors\n",
    "\n",
    "\n",
    "colors = colors2Community(communities)\n",
    "colors"
   ]
  },
  {
   "cell_type": "markdown",
   "metadata": {},
   "source": [
    "### Add colors to the graph"
   ]
  },
  {
   "cell_type": "code",
   "execution_count": 15,
   "metadata": {},
   "outputs": [],
   "source": [
    "for index, row in colors.iterrows():\n",
    "    G.nodes[row['node']]['group'] = row['group']\n",
    "    G.nodes[row['node']]['color'] = row['color']\n",
    "    G.nodes[row['node']]['size'] = G.degree[row['node']]"
   ]
  },
  {
   "cell_type": "code",
   "execution_count": 16,
   "metadata": {},
   "outputs": [
    {
     "name": "stdout",
     "output_type": "stream",
     "text": [
      "                                       \n",
      "[Select a Node by ID                                                    ]\n",
      "Reset Selection\n"
     ]
    }
   ],
   "source": [
    "from pyvis.network import Network\n",
    "\n",
    "graph_output_directory = \"../graphs/graph.html\"\n",
    "\n",
    "net = Network(\n",
    "    notebook=False,\n",
    "    # bgcolor=\"#1a1a1a\",\n",
    "    cdn_resources=\"remote\",\n",
    "    height=\"900px\",\n",
    "    width=\"100%\",\n",
    "    select_menu=True,\n",
    "    # font_color=\"#cccccc\",\n",
    "    filter_menu=False,\n",
    ")\n",
    "\n",
    "net.from_nx(G)\n",
    "# net.repulsion(node_distance=150, spring_length=400)\n",
    "net.force_atlas_2based(central_gravity=0.015, gravity=-31)\n",
    "# net.barnes_hut(gravity=-18100, central_gravity=5.05, spring_length=380)\n",
    "net.show_buttons(filter_=[\"physics\"])\n",
    "\n",
    "net.show(graph_output_directory)"
   ]
  },
  {
   "cell_type": "code",
   "execution_count": null,
   "metadata": {
    "editable": true,
    "slideshow": {
     "slide_type": ""
    },
    "tags": []
   },
   "outputs": [],
   "source": []
  }
 ],
 "metadata": {
  "kernelspec": {
   "display_name": "Python 3 (ipykernel)",
   "language": "python",
   "name": "python3"
  },
  "language_info": {
   "codemirror_mode": {
    "name": "ipython",
    "version": 3
   },
   "file_extension": ".py",
   "mimetype": "text/x-python",
   "name": "python",
   "nbconvert_exporter": "python",
   "pygments_lexer": "ipython3",
   "version": "3.11.8"
  }
 },
 "nbformat": 4,
 "nbformat_minor": 4
}
