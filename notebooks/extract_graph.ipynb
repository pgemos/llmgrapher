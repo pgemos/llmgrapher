{
 "cells": [
  {
   "cell_type": "markdown",
   "metadata": {},
   "source": [
    "## Setup"
   ]
  },
  {
   "cell_type": "code",
   "execution_count": 1,
   "metadata": {},
   "outputs": [],
   "source": [
    "import pandas as pd\n",
    "import numpy as np\n",
    "import os\n",
    "from langchain.document_loaders import PyPDFLoader, UnstructuredPDFLoader, PyPDFium2Loader\n",
    "from langchain.document_loaders import PyPDFDirectoryLoader, DirectoryLoader\n",
    "from langchain.text_splitter import RecursiveCharacterTextSplitter\n",
    "from pathlib import Path\n",
    "import random\n",
    "import logging"
   ]
  },
  {
   "cell_type": "code",
   "execution_count": null,
   "metadata": {},
   "outputs": [],
   "source": [
    "# Directory Setup\n",
    "# Change to project directory\n",
    "os.chdir(\"..\")\n",
    "# Input data directory\n",
    "data_dir = \"ag_news\"\n",
    "inputdirectory = Path(f\"./data/raw/input/{data_dir}\")\n",
    "# This is where the output csv files will be written\n",
    "out_dir = data_dir\n",
    "outputdirectory = Path(f\"./data/interim/output/{out_dir}\")"
   ]
  },
  {
   "cell_type": "code",
   "execution_count": 2,
   "metadata": {},
   "outputs": [],
   "source": [
    "ag_news = pd.read_csv(\"data/raw/ag_news_train.csv\", header=None)"
   ]
  },
  {
   "cell_type": "code",
   "execution_count": 3,
   "metadata": {},
   "outputs": [],
   "source": [
    "# ag_news_txt = ag_news[2].str.cat(sep=\"\\n\")\n",
    "ag_news_txt = ag_news[2].iloc[:50].str.cat(sep=\"\\n\")"
   ]
  },
  {
   "cell_type": "code",
   "execution_count": 4,
   "metadata": {},
   "outputs": [],
   "source": [
    "with open(\"data/raw/input/ag_news/ag_news.txt\", \"w\") as f:\n",
    "    f.write(ag_news_txt)"
   ]
  },
  {
   "cell_type": "markdown",
   "metadata": {},
   "source": [
    "## Load Documents"
   ]
  },
  {
   "cell_type": "code",
   "execution_count": 5,
   "metadata": {},
   "outputs": [
    {
     "name": "stderr",
     "output_type": "stream",
     "text": [
      "100%|█████████████████████████████████████████████| 1/1 [00:00<00:00,  1.02it/s]"
     ]
    },
    {
     "name": "stdout",
     "output_type": "stream",
     "text": [
      "Number of chunks =  7\n",
      "Interest rates are trimmed to 7.5 by the South African central bank,  but the lack of warning hits the rand and surprises markets.\n",
      "\n",
      "The cost of buying both new and second hand cars fell sharply over the past five years, a new survey has found.\n",
      "\n",
      "South Korea's central bank cuts interest rates by a quarter percentage point to 3.5 in a bid to drive growth in the economy.\n",
      "\n",
      "An auction of shares in Google, the web search engine which could be floated for as much as \\$36bn, takes place on Friday.\n",
      "\n",
      "Hewlett-Packard shares fall after disappointing third-quarter profits, while the firm warns the final quarter will also fall short of expectations.\n",
      "\n",
      "One of the oldest textile operators on the Indian Ocean island of Mauritius last week shut seven factories and cut 900 jobs.\n",
      "\n",
      "Chad asks the IMF for a loan to pay for looking after more than 100,000 refugees from conflict-torn Darfur in western Sudan.\n",
      "\n",
      "The company running the Japanese nuclear plant hit by a fatal accident is to close its reactors for safety checks.\n",
      "\n",
      "Trevor Baylis, the veteran inventor famous for creating the Freeplay clockwork radio, is planning to float his company on the stock market.\n",
      "\n",
      "Saudi Arabia says it is ready to push an extra 1.3 million barrels a day of oil into the market, to help reverse surging prices.\n",
      "\n",
      "A group led by the UAE's Etisalat plans to spend \\$1bn (544m) on expansion after winning two mobile phone licences in Saudi Arabia.\n"
     ]
    },
    {
     "name": "stderr",
     "output_type": "stream",
     "text": [
      "\n"
     ]
    }
   ],
   "source": [
    "## Dir PDF Loader\n",
    "# loader = PyPDFDirectoryLoader(inputdirectory)\n",
    "## File Loader\n",
    "# loader = PyPDFLoader(\"./data/MedicalDocuments/orf-path_health-n1.pdf\")\n",
    "loader = DirectoryLoader(inputdirectory, show_progress=True)\n",
    "documents = loader.load()\n",
    "\n",
    "splitter = RecursiveCharacterTextSplitter(\n",
    "    chunk_size=1500,\n",
    "    chunk_overlap=150,\n",
    "    length_function=len,\n",
    "    is_separator_regex=False,\n",
    ")\n",
    "\n",
    "pages = splitter.split_documents(documents)\n",
    "print(\"Number of chunks = \", len(pages))\n",
    "print(pages[3].page_content)\n"
   ]
  },
  {
   "cell_type": "markdown",
   "metadata": {},
   "source": [
    "## Create a dataframe of all the chunks"
   ]
  },
  {
   "cell_type": "code",
   "execution_count": 6,
   "metadata": {
    "editable": true,
    "slideshow": {
     "slide_type": ""
    },
    "tags": []
   },
   "outputs": [
    {
     "name": "stderr",
     "output_type": "stream",
     "text": [
      "\u001b[32m2024-05-12 21:46:43.818\u001b[0m | \u001b[1mINFO    \u001b[0m | \u001b[36mllmgrapher.config\u001b[0m:\u001b[36m<module>\u001b[0m:\u001b[36m11\u001b[0m - \u001b[1mPROJ_ROOT path is: /home/kleptotrace/Projects/git/llmgrapher\u001b[0m\n"
     ]
    },
    {
     "name": "stdout",
     "output_type": "stream",
     "text": [
      "(7, 3)\n"
     ]
    },
    {
     "name": "stderr",
     "output_type": "stream",
     "text": [
      "/home/kleptotrace/miniforge3/envs/knowledge-graph/lib/python3.11/site-packages/tqdm/auto.py:21: TqdmWarning: IProgress not found. Please update jupyter and ipywidgets. See https://ipywidgets.readthedocs.io/en/stable/user_install.html\n",
      "  from .autonotebook import tqdm as notebook_tqdm\n"
     ]
    },
    {
     "data": {
      "text/html": [
       "<div>\n",
       "<style scoped>\n",
       "    .dataframe tbody tr th:only-of-type {\n",
       "        vertical-align: middle;\n",
       "    }\n",
       "\n",
       "    .dataframe tbody tr th {\n",
       "        vertical-align: top;\n",
       "    }\n",
       "\n",
       "    .dataframe thead th {\n",
       "        text-align: right;\n",
       "    }\n",
       "</style>\n",
       "<table border=\"1\" class=\"dataframe\">\n",
       "  <thead>\n",
       "    <tr style=\"text-align: right;\">\n",
       "      <th></th>\n",
       "      <th>text</th>\n",
       "      <th>source</th>\n",
       "      <th>chunk_id</th>\n",
       "    </tr>\n",
       "  </thead>\n",
       "  <tbody>\n",
       "    <tr>\n",
       "      <th>0</th>\n",
       "      <td>Reuters - Short-sellers, Wall Street's dwindli...</td>\n",
       "      <td>data/raw/input/ag_news/ag_news.txt</td>\n",
       "      <td>0c78cdf041964504a6c44558c9b0ecf1</td>\n",
       "    </tr>\n",
       "    <tr>\n",
       "      <th>1</th>\n",
       "      <td>Forbes.com - After earning a PH.D. in Sociolog...</td>\n",
       "      <td>data/raw/input/ag_news/ag_news.txt</td>\n",
       "      <td>56769f34d4624076b5d248e4f4a418c5</td>\n",
       "    </tr>\n",
       "    <tr>\n",
       "      <th>2</th>\n",
       "      <td>NEW YORK (Reuters) - The dollar tumbled broadl...</td>\n",
       "      <td>data/raw/input/ag_news/ag_news.txt</td>\n",
       "      <td>bca3e5bb7cd44bf9abf27c6877830af9</td>\n",
       "    </tr>\n",
       "    <tr>\n",
       "      <th>3</th>\n",
       "      <td>Interest rates are trimmed to 7.5 by the South...</td>\n",
       "      <td>data/raw/input/ag_news/ag_news.txt</td>\n",
       "      <td>ed4358991eb244f28f3515f8aece72ad</td>\n",
       "    </tr>\n",
       "    <tr>\n",
       "      <th>4</th>\n",
       "      <td>A group led by the UAE's Etisalat plans to spe...</td>\n",
       "      <td>data/raw/input/ag_news/ag_news.txt</td>\n",
       "      <td>407eb7dd096449bdb823fc632867d7a8</td>\n",
       "    </tr>\n",
       "  </tbody>\n",
       "</table>\n",
       "</div>"
      ],
      "text/plain": [
       "                                                text  \\\n",
       "0  Reuters - Short-sellers, Wall Street's dwindli...   \n",
       "1  Forbes.com - After earning a PH.D. in Sociolog...   \n",
       "2  NEW YORK (Reuters) - The dollar tumbled broadl...   \n",
       "3  Interest rates are trimmed to 7.5 by the South...   \n",
       "4  A group led by the UAE's Etisalat plans to spe...   \n",
       "\n",
       "                               source                          chunk_id  \n",
       "0  data/raw/input/ag_news/ag_news.txt  0c78cdf041964504a6c44558c9b0ecf1  \n",
       "1  data/raw/input/ag_news/ag_news.txt  56769f34d4624076b5d248e4f4a418c5  \n",
       "2  data/raw/input/ag_news/ag_news.txt  bca3e5bb7cd44bf9abf27c6877830af9  \n",
       "3  data/raw/input/ag_news/ag_news.txt  ed4358991eb244f28f3515f8aece72ad  \n",
       "4  data/raw/input/ag_news/ag_news.txt  407eb7dd096449bdb823fc632867d7a8  "
      ]
     },
     "execution_count": 6,
     "metadata": {},
     "output_type": "execute_result"
    }
   ],
   "source": [
    "from llmgrapher.helpers.df_helpers import documents2Dataframe\n",
    "df = documents2Dataframe(pages)\n",
    "print(df.shape)\n",
    "df.head()"
   ]
  },
  {
   "cell_type": "markdown",
   "metadata": {},
   "source": [
    "## Extract Concepts"
   ]
  },
  {
   "cell_type": "code",
   "execution_count": 7,
   "metadata": {},
   "outputs": [],
   "source": [
    "## This function uses the helpers/prompt function to extract concepts from text\n",
    "from llmgrapher.helpers.df_helpers import df2Graph\n",
    "from llmgrapher.helpers.df_helpers import graph2Df"
   ]
  },
  {
   "cell_type": "markdown",
   "metadata": {},
   "source": [
    "If regenerate is set to True then the dataframes are regenerated and Both the dataframes are written in the csv format so we dont have to calculate them again. \n",
    "\n",
    "        dfne = dataframe of edges\n",
    "\n",
    "        df = dataframe of chunks\n",
    "\n",
    "\n",
    "Else the dataframes are read from the output directory"
   ]
  },
  {
   "cell_type": "code",
   "execution_count": 8,
   "metadata": {
    "editable": true,
    "slideshow": {
     "slide_type": ""
    },
    "tags": []
   },
   "outputs": [
    {
     "name": "stderr",
     "output_type": "stream",
     "text": [
      "100%|█████████████████████████████████████████████| 7/7 [00:35<00:00,  5.09s/it]"
     ]
    },
    {
     "name": "stdout",
     "output_type": "stream",
     "text": [
      "Possibly due to JSON Decode Error, 2 chunks have been skipped\n",
      "(34, 5)\n"
     ]
    },
    {
     "name": "stderr",
     "output_type": "stream",
     "text": [
      "\n"
     ]
    },
    {
     "data": {
      "text/html": [
       "<div>\n",
       "<style scoped>\n",
       "    .dataframe tbody tr th:only-of-type {\n",
       "        vertical-align: middle;\n",
       "    }\n",
       "\n",
       "    .dataframe tbody tr th {\n",
       "        vertical-align: top;\n",
       "    }\n",
       "\n",
       "    .dataframe thead th {\n",
       "        text-align: right;\n",
       "    }\n",
       "</style>\n",
       "<table border=\"1\" class=\"dataframe\">\n",
       "  <thead>\n",
       "    <tr style=\"text-align: right;\">\n",
       "      <th></th>\n",
       "      <th>node_1</th>\n",
       "      <th>node_2</th>\n",
       "      <th>edge</th>\n",
       "      <th>chunk_id</th>\n",
       "      <th>count</th>\n",
       "    </tr>\n",
       "  </thead>\n",
       "  <tbody>\n",
       "    <tr>\n",
       "      <th>0</th>\n",
       "      <td>short-sellers</td>\n",
       "      <td>well-timed and occasionally controversial play...</td>\n",
       "      <td>Carlyle Group, a private investment firm with ...</td>\n",
       "      <td>0c78cdf041964504a6c44558c9b0ecf1</td>\n",
       "      <td>4</td>\n",
       "    </tr>\n",
       "    <tr>\n",
       "      <th>1</th>\n",
       "      <td>soaring crude prices</td>\n",
       "      <td>intelligence showed a rebel militia could stri...</td>\n",
       "      <td>Authorities have halted oil export flows from ...</td>\n",
       "      <td>0c78cdf041964504a6c44558c9b0ecf1</td>\n",
       "      <td>4</td>\n",
       "    </tr>\n",
       "    <tr>\n",
       "      <th>2</th>\n",
       "      <td>tearaway world oil prices</td>\n",
       "      <td>offsetting a positive outlook from computer ma...</td>\n",
       "      <td>Stocks ended slightly higher on Friday but sta...</td>\n",
       "      <td>0c78cdf041964504a6c44558c9b0ecf1</td>\n",
       "      <td>4</td>\n",
       "    </tr>\n",
       "    <tr>\n",
       "      <th>3</th>\n",
       "      <td>assets of the nation's retail money market mut...</td>\n",
       "      <td>$36;849.98 trillion</td>\n",
       "      <td>Assets of the nation's retail money market mut...</td>\n",
       "      <td>0c78cdf041964504a6c44558c9b0ecf1</td>\n",
       "      <td>4</td>\n",
       "    </tr>\n",
       "    <tr>\n",
       "      <th>4</th>\n",
       "      <td>midsummer slump</td>\n",
       "      <td>indicating the economy is improving from a mid...</td>\n",
       "      <td>Retail sales bounced back a bit in July, and n...</td>\n",
       "      <td>0c78cdf041964504a6c44558c9b0ecf1</td>\n",
       "      <td>4</td>\n",
       "    </tr>\n",
       "  </tbody>\n",
       "</table>\n",
       "</div>"
      ],
      "text/plain": [
       "                                              node_1  \\\n",
       "0                                      short-sellers   \n",
       "1                               soaring crude prices   \n",
       "2                          tearaway world oil prices   \n",
       "3  assets of the nation's retail money market mut...   \n",
       "4                                    midsummer slump   \n",
       "\n",
       "                                              node_2  \\\n",
       "0  well-timed and occasionally controversial play...   \n",
       "1  intelligence showed a rebel militia could stri...   \n",
       "2  offsetting a positive outlook from computer ma...   \n",
       "3                                $36;849.98 trillion   \n",
       "4  indicating the economy is improving from a mid...   \n",
       "\n",
       "                                                edge  \\\n",
       "0  Carlyle Group, a private investment firm with ...   \n",
       "1  Authorities have halted oil export flows from ...   \n",
       "2  Stocks ended slightly higher on Friday but sta...   \n",
       "3  Assets of the nation's retail money market mut...   \n",
       "4  Retail sales bounced back a bit in July, and n...   \n",
       "\n",
       "                           chunk_id  count  \n",
       "0  0c78cdf041964504a6c44558c9b0ecf1      4  \n",
       "1  0c78cdf041964504a6c44558c9b0ecf1      4  \n",
       "2  0c78cdf041964504a6c44558c9b0ecf1      4  \n",
       "3  0c78cdf041964504a6c44558c9b0ecf1      4  \n",
       "4  0c78cdf041964504a6c44558c9b0ecf1      4  "
      ]
     },
     "execution_count": 8,
     "metadata": {},
     "output_type": "execute_result"
    }
   ],
   "source": [
    "## To regenerate the graph with LLM, set this to True\n",
    "regenerate = True\n",
    "\n",
    "if regenerate:\n",
    "    concepts_list = df2Graph(df, model='zephyr:latest')\n",
    "    dfg1 = graph2Df(concepts_list)\n",
    "    if not os.path.exists(outputdirectory):\n",
    "        os.makedirs(outputdirectory)\n",
    "    \n",
    "    dfg1.to_csv(outputdirectory/\"graph.csv\", sep=\"|\", index=False)\n",
    "    df.to_csv(outputdirectory/\"chunks.csv\", sep=\"|\", index=False)\n",
    "else:\n",
    "    dfg1 = pd.read_csv(outputdirectory/\"graph.csv\", sep=\"|\")\n",
    "\n",
    "dfg1.replace(\"\", np.nan, inplace=True)\n",
    "dfg1.dropna(subset=[\"node_1\", \"node_2\", 'edge'], inplace=True)\n",
    "dfg1['count'] = 4 \n",
    "## Increasing the weight of the relation to 4. \n",
    "## We will assign the weight of 1 when later the contextual proximity will be calculated.  \n",
    "print(dfg1.shape)\n",
    "dfg1.head()"
   ]
  },
  {
   "cell_type": "markdown",
   "metadata": {},
   "source": [
    "## Calculating contextual proximity"
   ]
  },
  {
   "cell_type": "code",
   "execution_count": 9,
   "metadata": {},
   "outputs": [
    {
     "data": {
      "text/html": [
       "<div>\n",
       "<style scoped>\n",
       "    .dataframe tbody tr th:only-of-type {\n",
       "        vertical-align: middle;\n",
       "    }\n",
       "\n",
       "    .dataframe tbody tr th {\n",
       "        vertical-align: top;\n",
       "    }\n",
       "\n",
       "    .dataframe thead th {\n",
       "        text-align: right;\n",
       "    }\n",
       "</style>\n",
       "<table border=\"1\" class=\"dataframe\">\n",
       "  <thead>\n",
       "    <tr style=\"text-align: right;\">\n",
       "      <th></th>\n",
       "      <th>node_1</th>\n",
       "      <th>node_2</th>\n",
       "      <th>chunk_id</th>\n",
       "      <th>count</th>\n",
       "      <th>edge</th>\n",
       "    </tr>\n",
       "  </thead>\n",
       "  <tbody>\n",
       "    <tr>\n",
       "      <th>743</th>\n",
       "      <td>us dollar</td>\n",
       "      <td>growth</td>\n",
       "      <td>bca3e5bb7cd44bf9abf27c6877830af9,bca3e5bb7cd44...</td>\n",
       "      <td>2</td>\n",
       "      <td>contextual proximity</td>\n",
       "    </tr>\n",
       "    <tr>\n",
       "      <th>756</th>\n",
       "      <td>us trade deficit</td>\n",
       "      <td>economic recovery</td>\n",
       "      <td>bca3e5bb7cd44bf9abf27c6877830af9,bca3e5bb7cd44...</td>\n",
       "      <td>2</td>\n",
       "      <td>contextual proximity</td>\n",
       "    </tr>\n",
       "    <tr>\n",
       "      <th>760</th>\n",
       "      <td>us trade deficit</td>\n",
       "      <td>growth</td>\n",
       "      <td>bca3e5bb7cd44bf9abf27c6877830af9,bca3e5bb7cd44...</td>\n",
       "      <td>2</td>\n",
       "      <td>contextual proximity</td>\n",
       "    </tr>\n",
       "    <tr>\n",
       "      <th>773</th>\n",
       "      <td>value-focused mutual funds</td>\n",
       "      <td>economic recovery</td>\n",
       "      <td>bca3e5bb7cd44bf9abf27c6877830af9,bca3e5bb7cd44...</td>\n",
       "      <td>2</td>\n",
       "      <td>contextual proximity</td>\n",
       "    </tr>\n",
       "    <tr>\n",
       "      <th>777</th>\n",
       "      <td>value-focused mutual funds</td>\n",
       "      <td>growth</td>\n",
       "      <td>bca3e5bb7cd44bf9abf27c6877830af9,bca3e5bb7cd44...</td>\n",
       "      <td>2</td>\n",
       "      <td>contextual proximity</td>\n",
       "    </tr>\n",
       "  </tbody>\n",
       "</table>\n",
       "</div>"
      ],
      "text/plain": [
       "                         node_1             node_2  \\\n",
       "743                   us dollar             growth   \n",
       "756            us trade deficit  economic recovery   \n",
       "760            us trade deficit             growth   \n",
       "773  value-focused mutual funds  economic recovery   \n",
       "777  value-focused mutual funds             growth   \n",
       "\n",
       "                                              chunk_id  count  \\\n",
       "743  bca3e5bb7cd44bf9abf27c6877830af9,bca3e5bb7cd44...      2   \n",
       "756  bca3e5bb7cd44bf9abf27c6877830af9,bca3e5bb7cd44...      2   \n",
       "760  bca3e5bb7cd44bf9abf27c6877830af9,bca3e5bb7cd44...      2   \n",
       "773  bca3e5bb7cd44bf9abf27c6877830af9,bca3e5bb7cd44...      2   \n",
       "777  bca3e5bb7cd44bf9abf27c6877830af9,bca3e5bb7cd44...      2   \n",
       "\n",
       "                     edge  \n",
       "743  contextual proximity  \n",
       "756  contextual proximity  \n",
       "760  contextual proximity  \n",
       "773  contextual proximity  \n",
       "777  contextual proximity  "
      ]
     },
     "execution_count": 9,
     "metadata": {},
     "output_type": "execute_result"
    }
   ],
   "source": [
    "def contextual_proximity(df: pd.DataFrame) -> pd.DataFrame:\n",
    "    ## Melt the dataframe into a list of nodes\n",
    "    dfg_long = pd.melt(\n",
    "        df, id_vars=[\"chunk_id\"], value_vars=[\"node_1\", \"node_2\"], value_name=\"node\"\n",
    "    )\n",
    "    dfg_long.drop(columns=[\"variable\"], inplace=True)\n",
    "    # Self join with chunk id as the key will create a link between terms occuring in the same text chunk.\n",
    "    dfg_wide = pd.merge(dfg_long, dfg_long, on=\"chunk_id\", suffixes=(\"_1\", \"_2\"))\n",
    "    # drop self loops\n",
    "    self_loops_drop = dfg_wide[dfg_wide[\"node_1\"] == dfg_wide[\"node_2\"]].index\n",
    "    dfg2 = dfg_wide.drop(index=self_loops_drop).reset_index(drop=True)\n",
    "    ## Group and count edges.\n",
    "    dfg2 = (\n",
    "        dfg2.groupby([\"node_1\", \"node_2\"])\n",
    "        .agg({\"chunk_id\": [\",\".join, \"count\"]})\n",
    "        .reset_index()\n",
    "    )\n",
    "    dfg2.columns = [\"node_1\", \"node_2\", \"chunk_id\", \"count\"]\n",
    "    dfg2.replace(\"\", np.nan, inplace=True)\n",
    "    dfg2.dropna(subset=[\"node_1\", \"node_2\"], inplace=True)\n",
    "    # Drop edges with 1 count\n",
    "    dfg2 = dfg2[dfg2[\"count\"] != 1]\n",
    "    dfg2[\"edge\"] = \"contextual proximity\"\n",
    "    return dfg2\n",
    "\n",
    "\n",
    "dfg2 = contextual_proximity(dfg1)\n",
    "dfg2.tail()"
   ]
  },
  {
   "cell_type": "markdown",
   "metadata": {},
   "source": [
    "### Merge both the dataframes"
   ]
  },
  {
   "cell_type": "code",
   "execution_count": 10,
   "metadata": {},
   "outputs": [
    {
     "data": {
      "text/html": [
       "<div>\n",
       "<style scoped>\n",
       "    .dataframe tbody tr th:only-of-type {\n",
       "        vertical-align: middle;\n",
       "    }\n",
       "\n",
       "    .dataframe tbody tr th {\n",
       "        vertical-align: top;\n",
       "    }\n",
       "\n",
       "    .dataframe thead th {\n",
       "        text-align: right;\n",
       "    }\n",
       "</style>\n",
       "<table border=\"1\" class=\"dataframe\">\n",
       "  <thead>\n",
       "    <tr style=\"text-align: right;\">\n",
       "      <th></th>\n",
       "      <th>node_1</th>\n",
       "      <th>node_2</th>\n",
       "      <th>chunk_id</th>\n",
       "      <th>edge</th>\n",
       "      <th>count</th>\n",
       "    </tr>\n",
       "  </thead>\n",
       "  <tbody>\n",
       "    <tr>\n",
       "      <th>0</th>\n",
       "      <td>ability to draw foreign capital</td>\n",
       "      <td>economic recovery</td>\n",
       "      <td>bca3e5bb7cd44bf9abf27c6877830af9,bca3e5bb7cd44...</td>\n",
       "      <td>contextual proximity</td>\n",
       "      <td>2</td>\n",
       "    </tr>\n",
       "    <tr>\n",
       "      <th>1</th>\n",
       "      <td>ability to draw foreign capital</td>\n",
       "      <td>growth</td>\n",
       "      <td>bca3e5bb7cd44bf9abf27c6877830af9,bca3e5bb7cd44...</td>\n",
       "      <td>contextual proximity</td>\n",
       "      <td>2</td>\n",
       "    </tr>\n",
       "    <tr>\n",
       "      <th>2</th>\n",
       "      <td>assets of the nation's retail money market mut...</td>\n",
       "      <td>$36;849.98 trillion</td>\n",
       "      <td>0c78cdf041964504a6c44558c9b0ecf1</td>\n",
       "      <td>Assets of the nation's retail money market mut...</td>\n",
       "      <td>4</td>\n",
       "    </tr>\n",
       "    <tr>\n",
       "      <th>3</th>\n",
       "      <td>back-to-school season</td>\n",
       "      <td>economic recovery</td>\n",
       "      <td>bca3e5bb7cd44bf9abf27c6877830af9,bca3e5bb7cd44...</td>\n",
       "      <td>contextual proximity</td>\n",
       "      <td>2</td>\n",
       "    </tr>\n",
       "    <tr>\n",
       "      <th>4</th>\n",
       "      <td>back-to-school season</td>\n",
       "      <td>growth</td>\n",
       "      <td>bca3e5bb7cd44bf9abf27c6877830af9,bca3e5bb7cd44...</td>\n",
       "      <td>contextual proximity</td>\n",
       "      <td>2</td>\n",
       "    </tr>\n",
       "    <tr>\n",
       "      <th>...</th>\n",
       "      <td>...</td>\n",
       "      <td>...</td>\n",
       "      <td>...</td>\n",
       "      <td>...</td>\n",
       "      <td>...</td>\n",
       "    </tr>\n",
       "    <tr>\n",
       "      <th>127</th>\n",
       "      <td>us dollar</td>\n",
       "      <td>growth</td>\n",
       "      <td>bca3e5bb7cd44bf9abf27c6877830af9,bca3e5bb7cd44...</td>\n",
       "      <td>contextual proximity</td>\n",
       "      <td>2</td>\n",
       "    </tr>\n",
       "    <tr>\n",
       "      <th>128</th>\n",
       "      <td>us trade deficit</td>\n",
       "      <td>economic recovery</td>\n",
       "      <td>bca3e5bb7cd44bf9abf27c6877830af9,bca3e5bb7cd44...</td>\n",
       "      <td>The record U.S. trade deficit in June cast fre...</td>\n",
       "      <td>6</td>\n",
       "    </tr>\n",
       "    <tr>\n",
       "      <th>129</th>\n",
       "      <td>us trade deficit</td>\n",
       "      <td>growth</td>\n",
       "      <td>bca3e5bb7cd44bf9abf27c6877830af9,bca3e5bb7cd44...</td>\n",
       "      <td>contextual proximity</td>\n",
       "      <td>2</td>\n",
       "    </tr>\n",
       "    <tr>\n",
       "      <th>130</th>\n",
       "      <td>value-focused mutual funds</td>\n",
       "      <td>economic recovery</td>\n",
       "      <td>bca3e5bb7cd44bf9abf27c6877830af9,bca3e5bb7cd44...</td>\n",
       "      <td>contextual proximity</td>\n",
       "      <td>2</td>\n",
       "    </tr>\n",
       "    <tr>\n",
       "      <th>131</th>\n",
       "      <td>value-focused mutual funds</td>\n",
       "      <td>growth</td>\n",
       "      <td>bca3e5bb7cd44bf9abf27c6877830af9,bca3e5bb7cd44...</td>\n",
       "      <td>contextual proximity</td>\n",
       "      <td>2</td>\n",
       "    </tr>\n",
       "  </tbody>\n",
       "</table>\n",
       "<p>132 rows × 5 columns</p>\n",
       "</div>"
      ],
      "text/plain": [
       "                                                node_1               node_2  \\\n",
       "0                      ability to draw foreign capital    economic recovery   \n",
       "1                      ability to draw foreign capital               growth   \n",
       "2    assets of the nation's retail money market mut...  $36;849.98 trillion   \n",
       "3                                back-to-school season    economic recovery   \n",
       "4                                back-to-school season               growth   \n",
       "..                                                 ...                  ...   \n",
       "127                                          us dollar               growth   \n",
       "128                                   us trade deficit    economic recovery   \n",
       "129                                   us trade deficit               growth   \n",
       "130                         value-focused mutual funds    economic recovery   \n",
       "131                         value-focused mutual funds               growth   \n",
       "\n",
       "                                              chunk_id  \\\n",
       "0    bca3e5bb7cd44bf9abf27c6877830af9,bca3e5bb7cd44...   \n",
       "1    bca3e5bb7cd44bf9abf27c6877830af9,bca3e5bb7cd44...   \n",
       "2                     0c78cdf041964504a6c44558c9b0ecf1   \n",
       "3    bca3e5bb7cd44bf9abf27c6877830af9,bca3e5bb7cd44...   \n",
       "4    bca3e5bb7cd44bf9abf27c6877830af9,bca3e5bb7cd44...   \n",
       "..                                                 ...   \n",
       "127  bca3e5bb7cd44bf9abf27c6877830af9,bca3e5bb7cd44...   \n",
       "128  bca3e5bb7cd44bf9abf27c6877830af9,bca3e5bb7cd44...   \n",
       "129  bca3e5bb7cd44bf9abf27c6877830af9,bca3e5bb7cd44...   \n",
       "130  bca3e5bb7cd44bf9abf27c6877830af9,bca3e5bb7cd44...   \n",
       "131  bca3e5bb7cd44bf9abf27c6877830af9,bca3e5bb7cd44...   \n",
       "\n",
       "                                                  edge  count  \n",
       "0                                 contextual proximity      2  \n",
       "1                                 contextual proximity      2  \n",
       "2    Assets of the nation's retail money market mut...      4  \n",
       "3                                 contextual proximity      2  \n",
       "4                                 contextual proximity      2  \n",
       "..                                                 ...    ...  \n",
       "127                               contextual proximity      2  \n",
       "128  The record U.S. trade deficit in June cast fre...      6  \n",
       "129                               contextual proximity      2  \n",
       "130                               contextual proximity      2  \n",
       "131                               contextual proximity      2  \n",
       "\n",
       "[132 rows x 5 columns]"
      ]
     },
     "execution_count": 10,
     "metadata": {},
     "output_type": "execute_result"
    }
   ],
   "source": [
    "dfg = pd.concat([dfg1, dfg2], axis=0)\n",
    "dfg = (\n",
    "    dfg.groupby([\"node_1\", \"node_2\"])\n",
    "    .agg({\"chunk_id\": \",\".join, \"edge\": ','.join, 'count': 'sum'})\n",
    "    .reset_index()\n",
    ")\n",
    "dfg"
   ]
  },
  {
   "cell_type": "markdown",
   "metadata": {},
   "source": [
    "## Calculate the NetworkX Graph"
   ]
  },
  {
   "cell_type": "code",
   "execution_count": 11,
   "metadata": {},
   "outputs": [
    {
     "data": {
      "text/plain": [
       "(64,)"
      ]
     },
     "execution_count": 11,
     "metadata": {},
     "output_type": "execute_result"
    }
   ],
   "source": [
    "nodes = pd.concat([dfg['node_1'], dfg['node_2']], axis=0).unique()\n",
    "nodes.shape"
   ]
  },
  {
   "cell_type": "code",
   "execution_count": 12,
   "metadata": {},
   "outputs": [],
   "source": [
    "import networkx as nx\n",
    "G = nx.Graph()\n",
    "\n",
    "## Add nodes to the graph\n",
    "for node in nodes:\n",
    "    G.add_node(\n",
    "        str(node)\n",
    "    )\n",
    "\n",
    "## Add edges to the graph\n",
    "for index, row in dfg.iterrows():\n",
    "    G.add_edge(\n",
    "        str(row[\"node_1\"]),\n",
    "        str(row[\"node_2\"]),\n",
    "        title=row[\"edge\"],\n",
    "        weight=row['count']/4\n",
    "    )"
   ]
  },
  {
   "cell_type": "markdown",
   "metadata": {},
   "source": [
    "### Calculate communities for coloring the nodes"
   ]
  },
  {
   "cell_type": "code",
   "execution_count": 13,
   "metadata": {},
   "outputs": [
    {
     "name": "stdout",
     "output_type": "stream",
     "text": [
      "Number of Communities =  17\n",
      "[['$36;849.98 trillion', \"assets of the nation's retail money market mutual funds\"], ['ability to draw foreign capital', 'back-to-school season', 'domestic and corporate spending', 'economic recovery', 'eurozone economy', 'foreign capital', 'google', 'growth', 'japan', 'kids', 'public offering', 'rand', 'shell', 'south africa', 'total', 'us dollar', 'us trade deficit', 'value-focused mutual funds'], ['central square in lynn', 'dell', 'gary winnick', 'global crossing', 'government', 'kevin b. rollins', 'large loss', 'oil', 'quality distribution', 'russia', 'stein'], ['e-mail', \"internet's killer application\"], ['economy', 'financial planner', 'google ipo', 'insurance benefits', 'non-opec oil exporters', 'oil prices', 'opec', 'securities regulation', 'stock market'], ['experimental drugs', 'nitromed inc.'], ['gateway artisan block'], ['google inc.', 'ipo'], ['indian engineers', 'network rail'], ['indicating the economy is improving from a midsummer slump', 'midsummer slump'], ['intelligence showed a rebel militia could strike infrastructure', 'soaring crude prices'], ['lynn'], ['massachusetts', 'sales tax holiday'], ['offsetting a positive outlook from computer maker dell inc.', 'tearaway world oil prices'], ['reuters', 'ultra-cynics'], ['saudi arabia mobile phone licences', \"uae's etisalat\"], ['short-sellers', 'well-timed and occasionally controversial plays in the defense industry']]\n"
     ]
    }
   ],
   "source": [
    "communities_generator = nx.community.girvan_newman(G)\n",
    "top_level_communities = next(communities_generator)\n",
    "next_level_communities = next(communities_generator)\n",
    "communities = sorted(map(sorted, next_level_communities))\n",
    "print(\"Number of Communities = \", len(communities))\n",
    "print(communities)"
   ]
  },
  {
   "cell_type": "markdown",
   "metadata": {},
   "source": [
    "### Create a dataframe for community colors"
   ]
  },
  {
   "cell_type": "code",
   "execution_count": 14,
   "metadata": {},
   "outputs": [
    {
     "data": {
      "text/html": [
       "<div>\n",
       "<style scoped>\n",
       "    .dataframe tbody tr th:only-of-type {\n",
       "        vertical-align: middle;\n",
       "    }\n",
       "\n",
       "    .dataframe tbody tr th {\n",
       "        vertical-align: top;\n",
       "    }\n",
       "\n",
       "    .dataframe thead th {\n",
       "        text-align: right;\n",
       "    }\n",
       "</style>\n",
       "<table border=\"1\" class=\"dataframe\">\n",
       "  <thead>\n",
       "    <tr style=\"text-align: right;\">\n",
       "      <th></th>\n",
       "      <th>node</th>\n",
       "      <th>color</th>\n",
       "      <th>group</th>\n",
       "    </tr>\n",
       "  </thead>\n",
       "  <tbody>\n",
       "    <tr>\n",
       "      <th>0</th>\n",
       "      <td>$36;849.98 trillion</td>\n",
       "      <td>#57dbcc</td>\n",
       "      <td>1</td>\n",
       "    </tr>\n",
       "    <tr>\n",
       "      <th>1</th>\n",
       "      <td>assets of the nation's retail money market mut...</td>\n",
       "      <td>#57dbcc</td>\n",
       "      <td>1</td>\n",
       "    </tr>\n",
       "    <tr>\n",
       "      <th>2</th>\n",
       "      <td>ability to draw foreign capital</td>\n",
       "      <td>#57db6e</td>\n",
       "      <td>2</td>\n",
       "    </tr>\n",
       "    <tr>\n",
       "      <th>3</th>\n",
       "      <td>back-to-school season</td>\n",
       "      <td>#57db6e</td>\n",
       "      <td>2</td>\n",
       "    </tr>\n",
       "    <tr>\n",
       "      <th>4</th>\n",
       "      <td>domestic and corporate spending</td>\n",
       "      <td>#57db6e</td>\n",
       "      <td>2</td>\n",
       "    </tr>\n",
       "    <tr>\n",
       "      <th>...</th>\n",
       "      <td>...</td>\n",
       "      <td>...</td>\n",
       "      <td>...</td>\n",
       "    </tr>\n",
       "    <tr>\n",
       "      <th>59</th>\n",
       "      <td>ultra-cynics</td>\n",
       "      <td>#db8d57</td>\n",
       "      <td>15</td>\n",
       "    </tr>\n",
       "    <tr>\n",
       "      <th>60</th>\n",
       "      <td>saudi arabia mobile phone licences</td>\n",
       "      <td>#db577e</td>\n",
       "      <td>16</td>\n",
       "    </tr>\n",
       "    <tr>\n",
       "      <th>61</th>\n",
       "      <td>uae's etisalat</td>\n",
       "      <td>#db577e</td>\n",
       "      <td>16</td>\n",
       "    </tr>\n",
       "    <tr>\n",
       "      <th>62</th>\n",
       "      <td>short-sellers</td>\n",
       "      <td>#57db9d</td>\n",
       "      <td>17</td>\n",
       "    </tr>\n",
       "    <tr>\n",
       "      <th>63</th>\n",
       "      <td>well-timed and occasionally controversial play...</td>\n",
       "      <td>#57db9d</td>\n",
       "      <td>17</td>\n",
       "    </tr>\n",
       "  </tbody>\n",
       "</table>\n",
       "<p>64 rows × 3 columns</p>\n",
       "</div>"
      ],
      "text/plain": [
       "                                                 node    color  group\n",
       "0                                 $36;849.98 trillion  #57dbcc      1\n",
       "1   assets of the nation's retail money market mut...  #57dbcc      1\n",
       "2                     ability to draw foreign capital  #57db6e      2\n",
       "3                               back-to-school season  #57db6e      2\n",
       "4                     domestic and corporate spending  #57db6e      2\n",
       "..                                                ...      ...    ...\n",
       "59                                       ultra-cynics  #db8d57     15\n",
       "60                 saudi arabia mobile phone licences  #db577e     16\n",
       "61                                     uae's etisalat  #db577e     16\n",
       "62                                      short-sellers  #57db9d     17\n",
       "63  well-timed and occasionally controversial play...  #57db9d     17\n",
       "\n",
       "[64 rows x 3 columns]"
      ]
     },
     "execution_count": 14,
     "metadata": {},
     "output_type": "execute_result"
    }
   ],
   "source": [
    "import seaborn as sns\n",
    "palette = \"hls\"\n",
    "\n",
    "## Now add these colors to communities and make another dataframe\n",
    "def colors2Community(communities) -> pd.DataFrame:\n",
    "    ## Define a color palette\n",
    "    p = sns.color_palette(palette, len(communities)).as_hex()\n",
    "    random.shuffle(p)\n",
    "    rows = []\n",
    "    group = 0\n",
    "    for community in communities:\n",
    "        color = p.pop()\n",
    "        group += 1\n",
    "        for node in community:\n",
    "            rows.append({\"node\": node, \"color\": color, \"group\": group})\n",
    "    df_colors = pd.DataFrame(rows)\n",
    "    return df_colors\n",
    "\n",
    "\n",
    "colors = colors2Community(communities)\n",
    "colors"
   ]
  },
  {
   "cell_type": "markdown",
   "metadata": {},
   "source": [
    "### Add colors to the graph"
   ]
  },
  {
   "cell_type": "code",
   "execution_count": 15,
   "metadata": {},
   "outputs": [],
   "source": [
    "for index, row in colors.iterrows():\n",
    "    G.nodes[row['node']]['group'] = row['group']\n",
    "    G.nodes[row['node']]['color'] = row['color']\n",
    "    G.nodes[row['node']]['size'] = G.degree[row['node']]"
   ]
  },
  {
   "cell_type": "code",
   "execution_count": 16,
   "metadata": {},
   "outputs": [
    {
     "name": "stdout",
     "output_type": "stream",
     "text": [
      "                                       \n",
      "[Select a Node by ID                                                    ]\n",
      "Reset Selection\n"
     ]
    }
   ],
   "source": [
    "from pyvis.network import Network\n",
    "\n",
    "graph_output_directory = \"./reports/graphs/graph.html\"\n",
    "\n",
    "net = Network(\n",
    "    notebook=False,\n",
    "    # bgcolor=\"#1a1a1a\",\n",
    "    cdn_resources=\"remote\",\n",
    "    height=\"900px\",\n",
    "    width=\"100%\",\n",
    "    select_menu=True,\n",
    "    # font_color=\"#cccccc\",\n",
    "    filter_menu=False,\n",
    ")\n",
    "\n",
    "net.from_nx(G)\n",
    "# net.repulsion(node_distance=150, spring_length=400)\n",
    "net.force_atlas_2based(central_gravity=0.015, gravity=-31)\n",
    "# net.barnes_hut(gravity=-18100, central_gravity=5.05, spring_length=380)\n",
    "net.show_buttons(filter_=[\"physics\"])\n",
    "\n",
    "net.show(graph_output_directory)"
   ]
  },
  {
   "cell_type": "code",
   "execution_count": null,
   "metadata": {
    "editable": true,
    "slideshow": {
     "slide_type": ""
    },
    "tags": []
   },
   "outputs": [],
   "source": []
  }
 ],
 "metadata": {
  "kernelspec": {
   "display_name": "Python 3 (ipykernel)",
   "language": "python",
   "name": "python3"
  },
  "language_info": {
   "codemirror_mode": {
    "name": "ipython",
    "version": 3
   },
   "file_extension": ".py",
   "mimetype": "text/x-python",
   "name": "python",
   "nbconvert_exporter": "python",
   "pygments_lexer": "ipython3",
   "version": "3.11.9"
  }
 },
 "nbformat": 4,
 "nbformat_minor": 4
}
