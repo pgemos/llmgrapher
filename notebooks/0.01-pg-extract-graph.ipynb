{
 "cells": [
  {
   "cell_type": "markdown",
   "metadata": {},
   "source": [
    "## Setup"
   ]
  },
  {
   "cell_type": "code",
   "execution_count": 1,
   "metadata": {},
   "outputs": [
    {
     "name": "stderr",
     "output_type": "stream",
     "text": [
      "\u001b[32m2024-05-12 23:08:41.257\u001b[0m | \u001b[1mINFO    \u001b[0m | \u001b[36mllmgrapher.config\u001b[0m:\u001b[36m<module>\u001b[0m:\u001b[36m11\u001b[0m - \u001b[1mPROJ_ROOT path is: /home/kleptotrace/Projects/git/llmgrapher\u001b[0m\n",
      "/home/kleptotrace/miniforge3/envs/knowledge-graph/lib/python3.11/site-packages/tqdm/auto.py:21: TqdmWarning: IProgress not found. Please update jupyter and ipywidgets. See https://ipywidgets.readthedocs.io/en/stable/user_install.html\n",
      "  from .autonotebook import tqdm as notebook_tqdm\n"
     ]
    }
   ],
   "source": [
    "import pandas as pd\n",
    "import numpy as np\n",
    "import os\n",
    "import sys\n",
    "from langchain.document_loaders import PyPDFLoader, UnstructuredPDFLoader, PyPDFium2Loader\n",
    "from langchain.document_loaders import PyPDFDirectoryLoader, DirectoryLoader\n",
    "from langchain.text_splitter import RecursiveCharacterTextSplitter\n",
    "from pathlib import Path\n",
    "import random\n",
    "import logging\n",
    "\n",
    "# Change to project directory\n",
    "os.chdir(\"..\")\n",
    "\n",
    "from llmgrapher.helpers.df_helpers import df2Graph, graph2Df, documents2Dataframe"
   ]
  },
  {
   "cell_type": "code",
   "execution_count": 2,
   "metadata": {},
   "outputs": [],
   "source": [
    "# Logger setup\n",
    "logger = logging.getLogger(\"__name__\")\n",
    "logger.setLevel(logging.DEBUG) # only log the current logger in DEBUG mode\n",
    "logging.basicConfig(\n",
    "    level=logging.CRITICAL,  # show only CRITICAL messages from other loggers\n",
    "    format=\"%(asctime)s [%(levelname)s] %(message)s\",\n",
    "    encoding=\"utf-8\",\n",
    "    handlers=[   # output log messages to both file and stdout\n",
    "        logging.FileHandler(\"logs/extract_graph_notebook.log\"),\n",
    "        logging.StreamHandler(sys.stdout)\n",
    "    ]\n",
    ")"
   ]
  },
  {
   "cell_type": "code",
   "execution_count": 3,
   "metadata": {},
   "outputs": [],
   "source": [
    "# Directory Setup\n",
    "# Input data directory\n",
    "data_dir = \"ag_news\"\n",
    "inputdirectory = Path(f\"./data/raw/input/{data_dir}\")\n",
    "# This is where the output csv files will be written\n",
    "out_dir = data_dir\n",
    "outputdirectory = Path(f\"./data/interim/output/{out_dir}\")"
   ]
  },
  {
   "cell_type": "code",
   "execution_count": 4,
   "metadata": {},
   "outputs": [],
   "source": [
    "ag_news = pd.read_csv(\"data/raw/ag_news_train.csv\", header=None)"
   ]
  },
  {
   "cell_type": "code",
   "execution_count": 5,
   "metadata": {},
   "outputs": [],
   "source": [
    "# ag_news_txt = ag_news[2].str.cat(sep=\"\\n\")\n",
    "ag_news_txt = ag_news[2].iloc[:50].str.cat(sep=\"\\n\")"
   ]
  },
  {
   "cell_type": "code",
   "execution_count": 6,
   "metadata": {},
   "outputs": [],
   "source": [
    "with open(\"data/raw/input/ag_news/ag_news.txt\", \"w\") as f:\n",
    "    f.write(ag_news_txt)"
   ]
  },
  {
   "cell_type": "markdown",
   "metadata": {},
   "source": [
    "## Load Documents"
   ]
  },
  {
   "cell_type": "code",
   "execution_count": 7,
   "metadata": {},
   "outputs": [
    {
     "name": "stderr",
     "output_type": "stream",
     "text": [
      "100%|█████████████████████████████████████████████| 1/1 [00:00<00:00,  1.05it/s]"
     ]
    },
    {
     "name": "stdout",
     "output_type": "stream",
     "text": [
      "Number of chunks =  7\n",
      "Interest rates are trimmed to 7.5 by the South African central bank,  but the lack of warning hits the rand and surprises markets.\n",
      "\n",
      "The cost of buying both new and second hand cars fell sharply over the past five years, a new survey has found.\n",
      "\n",
      "South Korea's central bank cuts interest rates by a quarter percentage point to 3.5 in a bid to drive growth in the economy.\n",
      "\n",
      "An auction of shares in Google, the web search engine which could be floated for as much as \\$36bn, takes place on Friday.\n",
      "\n",
      "Hewlett-Packard shares fall after disappointing third-quarter profits, while the firm warns the final quarter will also fall short of expectations.\n",
      "\n",
      "One of the oldest textile operators on the Indian Ocean island of Mauritius last week shut seven factories and cut 900 jobs.\n",
      "\n",
      "Chad asks the IMF for a loan to pay for looking after more than 100,000 refugees from conflict-torn Darfur in western Sudan.\n",
      "\n",
      "The company running the Japanese nuclear plant hit by a fatal accident is to close its reactors for safety checks.\n",
      "\n",
      "Trevor Baylis, the veteran inventor famous for creating the Freeplay clockwork radio, is planning to float his company on the stock market.\n",
      "\n",
      "Saudi Arabia says it is ready to push an extra 1.3 million barrels a day of oil into the market, to help reverse surging prices.\n",
      "\n",
      "A group led by the UAE's Etisalat plans to spend \\$1bn (544m) on expansion after winning two mobile phone licences in Saudi Arabia.\n"
     ]
    },
    {
     "name": "stderr",
     "output_type": "stream",
     "text": [
      "\n"
     ]
    }
   ],
   "source": [
    "## Dir PDF Loader\n",
    "# loader = PyPDFDirectoryLoader(inputdirectory)\n",
    "## File Loader\n",
    "# loader = PyPDFLoader(\"./data/MedicalDocuments/orf-path_health-n1.pdf\")\n",
    "loader = DirectoryLoader(inputdirectory, show_progress=True)\n",
    "documents = loader.load()\n",
    "\n",
    "splitter = RecursiveCharacterTextSplitter(\n",
    "    chunk_size=1500,\n",
    "    chunk_overlap=150,\n",
    "    length_function=len,\n",
    "    is_separator_regex=False,\n",
    ")\n",
    "\n",
    "pages = splitter.split_documents(documents)\n",
    "print(\"Number of chunks = \", len(pages))\n",
    "print(pages[3].page_content)\n"
   ]
  },
  {
   "cell_type": "markdown",
   "metadata": {},
   "source": [
    "## Create a dataframe of all the chunks"
   ]
  },
  {
   "cell_type": "code",
   "execution_count": 8,
   "metadata": {
    "editable": true,
    "slideshow": {
     "slide_type": ""
    },
    "tags": []
   },
   "outputs": [
    {
     "name": "stdout",
     "output_type": "stream",
     "text": [
      "(7, 3)\n"
     ]
    },
    {
     "data": {
      "text/html": [
       "<div>\n",
       "<style scoped>\n",
       "    .dataframe tbody tr th:only-of-type {\n",
       "        vertical-align: middle;\n",
       "    }\n",
       "\n",
       "    .dataframe tbody tr th {\n",
       "        vertical-align: top;\n",
       "    }\n",
       "\n",
       "    .dataframe thead th {\n",
       "        text-align: right;\n",
       "    }\n",
       "</style>\n",
       "<table border=\"1\" class=\"dataframe\">\n",
       "  <thead>\n",
       "    <tr style=\"text-align: right;\">\n",
       "      <th></th>\n",
       "      <th>text</th>\n",
       "      <th>source</th>\n",
       "      <th>chunk_id</th>\n",
       "    </tr>\n",
       "  </thead>\n",
       "  <tbody>\n",
       "    <tr>\n",
       "      <th>0</th>\n",
       "      <td>Reuters - Short-sellers, Wall Street's dwindli...</td>\n",
       "      <td>data/raw/input/ag_news/ag_news.txt</td>\n",
       "      <td>000c2851894849018c528551954ebed9</td>\n",
       "    </tr>\n",
       "    <tr>\n",
       "      <th>1</th>\n",
       "      <td>Forbes.com - After earning a PH.D. in Sociolog...</td>\n",
       "      <td>data/raw/input/ag_news/ag_news.txt</td>\n",
       "      <td>a92d82dfe6594b7d97fb0d5255f590f1</td>\n",
       "    </tr>\n",
       "    <tr>\n",
       "      <th>2</th>\n",
       "      <td>NEW YORK (Reuters) - The dollar tumbled broadl...</td>\n",
       "      <td>data/raw/input/ag_news/ag_news.txt</td>\n",
       "      <td>5c9e02945d5444808f8ea2a7875f73d1</td>\n",
       "    </tr>\n",
       "    <tr>\n",
       "      <th>3</th>\n",
       "      <td>Interest rates are trimmed to 7.5 by the South...</td>\n",
       "      <td>data/raw/input/ag_news/ag_news.txt</td>\n",
       "      <td>961b9911316e4e588f64e9695ee05830</td>\n",
       "    </tr>\n",
       "    <tr>\n",
       "      <th>4</th>\n",
       "      <td>A group led by the UAE's Etisalat plans to spe...</td>\n",
       "      <td>data/raw/input/ag_news/ag_news.txt</td>\n",
       "      <td>468b3cc22d40417d8f5de4b45def836d</td>\n",
       "    </tr>\n",
       "  </tbody>\n",
       "</table>\n",
       "</div>"
      ],
      "text/plain": [
       "                                                text  \\\n",
       "0  Reuters - Short-sellers, Wall Street's dwindli...   \n",
       "1  Forbes.com - After earning a PH.D. in Sociolog...   \n",
       "2  NEW YORK (Reuters) - The dollar tumbled broadl...   \n",
       "3  Interest rates are trimmed to 7.5 by the South...   \n",
       "4  A group led by the UAE's Etisalat plans to spe...   \n",
       "\n",
       "                               source                          chunk_id  \n",
       "0  data/raw/input/ag_news/ag_news.txt  000c2851894849018c528551954ebed9  \n",
       "1  data/raw/input/ag_news/ag_news.txt  a92d82dfe6594b7d97fb0d5255f590f1  \n",
       "2  data/raw/input/ag_news/ag_news.txt  5c9e02945d5444808f8ea2a7875f73d1  \n",
       "3  data/raw/input/ag_news/ag_news.txt  961b9911316e4e588f64e9695ee05830  \n",
       "4  data/raw/input/ag_news/ag_news.txt  468b3cc22d40417d8f5de4b45def836d  "
      ]
     },
     "execution_count": 8,
     "metadata": {},
     "output_type": "execute_result"
    }
   ],
   "source": [
    "df = documents2Dataframe(pages)\n",
    "print(df.shape)\n",
    "df.head()"
   ]
  },
  {
   "cell_type": "markdown",
   "metadata": {},
   "source": [
    "## Extract Concepts"
   ]
  },
  {
   "cell_type": "markdown",
   "metadata": {},
   "source": [
    "If regenerate is set to True then the dataframes are regenerated and Both the dataframes are written in the csv format so we dont have to calculate them again. \n",
    "\n",
    "        dfne = dataframe of edges\n",
    "\n",
    "        df = dataframe of chunks\n",
    "\n",
    "\n",
    "Else the dataframes are read from the output directory"
   ]
  },
  {
   "cell_type": "code",
   "execution_count": 9,
   "metadata": {
    "editable": true,
    "slideshow": {
     "slide_type": ""
    },
    "tags": []
   },
   "outputs": [
    {
     "name": "stderr",
     "output_type": "stream",
     "text": [
      "100%|█████████████████████████████████████████████| 7/7 [00:52<00:00,  7.49s/it]"
     ]
    },
    {
     "name": "stdout",
     "output_type": "stream",
     "text": [
      "Possibly due to JSON Decode Error, 2 chunks have been skipped\n",
      "(34, 5)\n"
     ]
    },
    {
     "name": "stderr",
     "output_type": "stream",
     "text": [
      "\n"
     ]
    },
    {
     "data": {
      "text/html": [
       "<div>\n",
       "<style scoped>\n",
       "    .dataframe tbody tr th:only-of-type {\n",
       "        vertical-align: middle;\n",
       "    }\n",
       "\n",
       "    .dataframe tbody tr th {\n",
       "        vertical-align: top;\n",
       "    }\n",
       "\n",
       "    .dataframe thead th {\n",
       "        text-align: right;\n",
       "    }\n",
       "</style>\n",
       "<table border=\"1\" class=\"dataframe\">\n",
       "  <thead>\n",
       "    <tr style=\"text-align: right;\">\n",
       "      <th></th>\n",
       "      <th>node_1</th>\n",
       "      <th>node_2</th>\n",
       "      <th>edge</th>\n",
       "      <th>chunk_id</th>\n",
       "      <th>count</th>\n",
       "    </tr>\n",
       "  </thead>\n",
       "  <tbody>\n",
       "    <tr>\n",
       "      <th>0</th>\n",
       "      <td>short-sellers</td>\n",
       "      <td>well-timed and occasionally controversial play...</td>\n",
       "      <td>Carlyle Group, a private investment firm with ...</td>\n",
       "      <td>000c2851894849018c528551954ebed9</td>\n",
       "      <td>4</td>\n",
       "    </tr>\n",
       "    <tr>\n",
       "      <th>1</th>\n",
       "      <td>oil export flows</td>\n",
       "      <td>infrastructure</td>\n",
       "      <td>Authorities have halted oil export flows from ...</td>\n",
       "      <td>000c2851894849018c528551954ebed9</td>\n",
       "      <td>4</td>\n",
       "    </tr>\n",
       "    <tr>\n",
       "      <th>2</th>\n",
       "      <td>oil prices</td>\n",
       "      <td>wallets</td>\n",
       "      <td>Tearaway world oil prices, toppling records an...</td>\n",
       "      <td>000c2851894849018c528551954ebed9</td>\n",
       "      <td>4</td>\n",
       "    </tr>\n",
       "    <tr>\n",
       "      <th>3</th>\n",
       "      <td>stock market</td>\n",
       "      <td>summer doldrums</td>\n",
       "      <td>Soaring crude prices plus worries about the ec...</td>\n",
       "      <td>000c2851894849018c528551954ebed9</td>\n",
       "      <td>4</td>\n",
       "    </tr>\n",
       "    <tr>\n",
       "      <th>4</th>\n",
       "      <td>retail money market mutual funds</td>\n",
       "      <td>assets</td>\n",
       "      <td>Assets of the nation's retail money market mut...</td>\n",
       "      <td>000c2851894849018c528551954ebed9</td>\n",
       "      <td>4</td>\n",
       "    </tr>\n",
       "  </tbody>\n",
       "</table>\n",
       "</div>"
      ],
      "text/plain": [
       "                             node_1  \\\n",
       "0                     short-sellers   \n",
       "1                  oil export flows   \n",
       "2                        oil prices   \n",
       "3                      stock market   \n",
       "4  retail money market mutual funds   \n",
       "\n",
       "                                              node_2  \\\n",
       "0  well-timed and occasionally controversial play...   \n",
       "1                                     infrastructure   \n",
       "2                                            wallets   \n",
       "3                                    summer doldrums   \n",
       "4                                             assets   \n",
       "\n",
       "                                                edge  \\\n",
       "0  Carlyle Group, a private investment firm with ...   \n",
       "1  Authorities have halted oil export flows from ...   \n",
       "2  Tearaway world oil prices, toppling records an...   \n",
       "3  Soaring crude prices plus worries about the ec...   \n",
       "4  Assets of the nation's retail money market mut...   \n",
       "\n",
       "                           chunk_id  count  \n",
       "0  000c2851894849018c528551954ebed9      4  \n",
       "1  000c2851894849018c528551954ebed9      4  \n",
       "2  000c2851894849018c528551954ebed9      4  \n",
       "3  000c2851894849018c528551954ebed9      4  \n",
       "4  000c2851894849018c528551954ebed9      4  "
      ]
     },
     "execution_count": 9,
     "metadata": {},
     "output_type": "execute_result"
    }
   ],
   "source": [
    "## To regenerate the graph with LLM, set this to True\n",
    "regenerate = True\n",
    "\n",
    "if regenerate:\n",
    "    concepts_list = df2Graph(df, model='zephyr:latest')\n",
    "    dfg1 = graph2Df(concepts_list)\n",
    "    if not os.path.exists(outputdirectory):\n",
    "        os.makedirs(outputdirectory)\n",
    "    \n",
    "    dfg1.to_csv(outputdirectory/\"graph.csv\", sep=\"|\", index=False)\n",
    "    df.to_csv(outputdirectory/\"chunks.csv\", sep=\"|\", index=False)\n",
    "else:\n",
    "    dfg1 = pd.read_csv(outputdirectory/\"graph.csv\", sep=\"|\")\n",
    "\n",
    "dfg1.replace(\"\", np.nan, inplace=True)\n",
    "dfg1.dropna(subset=[\"node_1\", \"node_2\", 'edge'], inplace=True)\n",
    "dfg1['count'] = 4 \n",
    "## Increasing the weight of the relation to 4. \n",
    "## We will assign the weight of 1 when later the contextual proximity will be calculated.  \n",
    "print(dfg1.shape)\n",
    "dfg1.head()"
   ]
  },
  {
   "cell_type": "markdown",
   "metadata": {},
   "source": [
    "## Calculating contextual proximity"
   ]
  },
  {
   "cell_type": "code",
   "execution_count": 10,
   "metadata": {},
   "outputs": [
    {
     "data": {
      "text/html": [
       "<div>\n",
       "<style scoped>\n",
       "    .dataframe tbody tr th:only-of-type {\n",
       "        vertical-align: middle;\n",
       "    }\n",
       "\n",
       "    .dataframe tbody tr th {\n",
       "        vertical-align: top;\n",
       "    }\n",
       "\n",
       "    .dataframe thead th {\n",
       "        text-align: right;\n",
       "    }\n",
       "</style>\n",
       "<table border=\"1\" class=\"dataframe\">\n",
       "  <thead>\n",
       "    <tr style=\"text-align: right;\">\n",
       "      <th></th>\n",
       "      <th>node_1</th>\n",
       "      <th>node_2</th>\n",
       "      <th>chunk_id</th>\n",
       "      <th>count</th>\n",
       "      <th>edge</th>\n",
       "    </tr>\n",
       "  </thead>\n",
       "  <tbody>\n",
       "    <tr>\n",
       "      <th>688</th>\n",
       "      <td>short-sellers</td>\n",
       "      <td>stock market</td>\n",
       "      <td>000c2851894849018c528551954ebed9,a92d82dfe6594...</td>\n",
       "      <td>2</td>\n",
       "      <td>contextual proximity</td>\n",
       "    </tr>\n",
       "    <tr>\n",
       "      <th>735</th>\n",
       "      <td>stock market</td>\n",
       "      <td>non-opec oil exporters</td>\n",
       "      <td>a92d82dfe6594b7d97fb0d5255f590f1,a92d82dfe6594...</td>\n",
       "      <td>2</td>\n",
       "      <td>contextual proximity</td>\n",
       "    </tr>\n",
       "    <tr>\n",
       "      <th>744</th>\n",
       "      <td>stock market</td>\n",
       "      <td>short-sellers</td>\n",
       "      <td>000c2851894849018c528551954ebed9,a92d82dfe6594...</td>\n",
       "      <td>2</td>\n",
       "      <td>contextual proximity</td>\n",
       "    </tr>\n",
       "    <tr>\n",
       "      <th>790</th>\n",
       "      <td>united states</td>\n",
       "      <td>central square in lynn</td>\n",
       "      <td>5374f6ca1e304e358499f64345b6b9aa,5374f6ca1e304...</td>\n",
       "      <td>2</td>\n",
       "      <td>contextual proximity</td>\n",
       "    </tr>\n",
       "    <tr>\n",
       "      <th>803</th>\n",
       "      <td>us securities regulators</td>\n",
       "      <td>non-opec oil exporters</td>\n",
       "      <td>a92d82dfe6594b7d97fb0d5255f590f1,a92d82dfe6594...</td>\n",
       "      <td>2</td>\n",
       "      <td>contextual proximity</td>\n",
       "    </tr>\n",
       "  </tbody>\n",
       "</table>\n",
       "</div>"
      ],
      "text/plain": [
       "                       node_1                  node_2  \\\n",
       "688             short-sellers            stock market   \n",
       "735              stock market  non-opec oil exporters   \n",
       "744              stock market           short-sellers   \n",
       "790             united states  central square in lynn   \n",
       "803  us securities regulators  non-opec oil exporters   \n",
       "\n",
       "                                              chunk_id  count  \\\n",
       "688  000c2851894849018c528551954ebed9,a92d82dfe6594...      2   \n",
       "735  a92d82dfe6594b7d97fb0d5255f590f1,a92d82dfe6594...      2   \n",
       "744  000c2851894849018c528551954ebed9,a92d82dfe6594...      2   \n",
       "790  5374f6ca1e304e358499f64345b6b9aa,5374f6ca1e304...      2   \n",
       "803  a92d82dfe6594b7d97fb0d5255f590f1,a92d82dfe6594...      2   \n",
       "\n",
       "                     edge  \n",
       "688  contextual proximity  \n",
       "735  contextual proximity  \n",
       "744  contextual proximity  \n",
       "790  contextual proximity  \n",
       "803  contextual proximity  "
      ]
     },
     "execution_count": 10,
     "metadata": {},
     "output_type": "execute_result"
    }
   ],
   "source": [
    "def contextual_proximity(df: pd.DataFrame) -> pd.DataFrame:\n",
    "    ## Melt the dataframe into a list of nodes\n",
    "    dfg_long = pd.melt(\n",
    "        df, id_vars=[\"chunk_id\"], value_vars=[\"node_1\", \"node_2\"], value_name=\"node\"\n",
    "    )\n",
    "    dfg_long.drop(columns=[\"variable\"], inplace=True)\n",
    "    # Self join with chunk id as the key will create a link between terms occuring in the same text chunk.\n",
    "    dfg_wide = pd.merge(dfg_long, dfg_long, on=\"chunk_id\", suffixes=(\"_1\", \"_2\"))\n",
    "    # drop self loops\n",
    "    self_loops_drop = dfg_wide[dfg_wide[\"node_1\"] == dfg_wide[\"node_2\"]].index\n",
    "    dfg2 = dfg_wide.drop(index=self_loops_drop).reset_index(drop=True)\n",
    "    ## Group and count edges.\n",
    "    dfg2 = (\n",
    "        dfg2.groupby([\"node_1\", \"node_2\"])\n",
    "        .agg({\"chunk_id\": [\",\".join, \"count\"]})\n",
    "        .reset_index()\n",
    "    )\n",
    "    dfg2.columns = [\"node_1\", \"node_2\", \"chunk_id\", \"count\"]\n",
    "    dfg2.replace(\"\", np.nan, inplace=True)\n",
    "    dfg2.dropna(subset=[\"node_1\", \"node_2\"], inplace=True)\n",
    "    # Drop edges with 1 count\n",
    "    dfg2 = dfg2[dfg2[\"count\"] != 1]\n",
    "    dfg2[\"edge\"] = \"contextual proximity\"\n",
    "    return dfg2\n",
    "\n",
    "\n",
    "dfg2 = contextual_proximity(dfg1)\n",
    "dfg2.tail()"
   ]
  },
  {
   "cell_type": "markdown",
   "metadata": {},
   "source": [
    "### Merge both the dataframes"
   ]
  },
  {
   "cell_type": "code",
   "execution_count": 11,
   "metadata": {},
   "outputs": [
    {
     "data": {
      "text/html": [
       "<div>\n",
       "<style scoped>\n",
       "    .dataframe tbody tr th:only-of-type {\n",
       "        vertical-align: middle;\n",
       "    }\n",
       "\n",
       "    .dataframe tbody tr th {\n",
       "        vertical-align: top;\n",
       "    }\n",
       "\n",
       "    .dataframe thead th {\n",
       "        text-align: right;\n",
       "    }\n",
       "</style>\n",
       "<table border=\"1\" class=\"dataframe\">\n",
       "  <thead>\n",
       "    <tr style=\"text-align: right;\">\n",
       "      <th></th>\n",
       "      <th>node_1</th>\n",
       "      <th>node_2</th>\n",
       "      <th>chunk_id</th>\n",
       "      <th>edge</th>\n",
       "      <th>count</th>\n",
       "    </tr>\n",
       "  </thead>\n",
       "  <tbody>\n",
       "    <tr>\n",
       "      <th>0</th>\n",
       "      <td>central square in lynn</td>\n",
       "      <td>dell</td>\n",
       "      <td>5374f6ca1e304e358499f64345b6b9aa,5374f6ca1e304...</td>\n",
       "      <td>contextual proximity</td>\n",
       "      <td>2</td>\n",
       "    </tr>\n",
       "    <tr>\n",
       "      <th>1</th>\n",
       "      <td>central square in lynn</td>\n",
       "      <td>gary winnick</td>\n",
       "      <td>5374f6ca1e304e358499f64345b6b9aa,5374f6ca1e304...</td>\n",
       "      <td>contextual proximity</td>\n",
       "      <td>2</td>\n",
       "    </tr>\n",
       "    <tr>\n",
       "      <th>2</th>\n",
       "      <td>central square in lynn</td>\n",
       "      <td>gateway artisan block</td>\n",
       "      <td>5374f6ca1e304e358499f64345b6b9aa,5374f6ca1e304...</td>\n",
       "      <td>The Gateway Artisan Block is a key area of Cen...</td>\n",
       "      <td>6</td>\n",
       "    </tr>\n",
       "    <tr>\n",
       "      <th>3</th>\n",
       "      <td>central square in lynn</td>\n",
       "      <td>global crossing</td>\n",
       "      <td>5374f6ca1e304e358499f64345b6b9aa,5374f6ca1e304...</td>\n",
       "      <td>contextual proximity</td>\n",
       "      <td>2</td>\n",
       "    </tr>\n",
       "    <tr>\n",
       "      <th>4</th>\n",
       "      <td>central square in lynn</td>\n",
       "      <td>government</td>\n",
       "      <td>5374f6ca1e304e358499f64345b6b9aa,5374f6ca1e304...</td>\n",
       "      <td>contextual proximity</td>\n",
       "      <td>2</td>\n",
       "    </tr>\n",
       "    <tr>\n",
       "      <th>...</th>\n",
       "      <td>...</td>\n",
       "      <td>...</td>\n",
       "      <td>...</td>\n",
       "      <td>...</td>\n",
       "      <td>...</td>\n",
       "    </tr>\n",
       "    <tr>\n",
       "      <th>66</th>\n",
       "      <td>united states</td>\n",
       "      <td>central square in lynn</td>\n",
       "      <td>5374f6ca1e304e358499f64345b6b9aa,5374f6ca1e304...</td>\n",
       "      <td>contextual proximity</td>\n",
       "      <td>2</td>\n",
       "    </tr>\n",
       "    <tr>\n",
       "      <th>67</th>\n",
       "      <td>united states</td>\n",
       "      <td>government</td>\n",
       "      <td>5374f6ca1e304e358499f64345b6b9aa</td>\n",
       "      <td>Stein proposes that the government sell titles...</td>\n",
       "      <td>4</td>\n",
       "    </tr>\n",
       "    <tr>\n",
       "      <th>68</th>\n",
       "      <td>us securities regulators</td>\n",
       "      <td>non-opec oil exporters</td>\n",
       "      <td>a92d82dfe6594b7d97fb0d5255f590f1,a92d82dfe6594...</td>\n",
       "      <td>contextual proximity</td>\n",
       "      <td>2</td>\n",
       "    </tr>\n",
       "    <tr>\n",
       "      <th>69</th>\n",
       "      <td>us trade deficit</td>\n",
       "      <td>oil costs</td>\n",
       "      <td>5c9e02945d5444808f8ea2a7875f73d1</td>\n",
       "      <td>relationship between the record US trade defic...</td>\n",
       "      <td>4</td>\n",
       "    </tr>\n",
       "    <tr>\n",
       "      <th>70</th>\n",
       "      <td>value-focused mutual funds</td>\n",
       "      <td>growth mutual funds</td>\n",
       "      <td>5c9e02945d5444808f8ea2a7875f73d1</td>\n",
       "      <td>relationship between outperforming value-focus...</td>\n",
       "      <td>4</td>\n",
       "    </tr>\n",
       "  </tbody>\n",
       "</table>\n",
       "<p>71 rows × 5 columns</p>\n",
       "</div>"
      ],
      "text/plain": [
       "                        node_1                  node_2  \\\n",
       "0       central square in lynn                    dell   \n",
       "1       central square in lynn            gary winnick   \n",
       "2       central square in lynn   gateway artisan block   \n",
       "3       central square in lynn         global crossing   \n",
       "4       central square in lynn              government   \n",
       "..                         ...                     ...   \n",
       "66               united states  central square in lynn   \n",
       "67               united states              government   \n",
       "68    us securities regulators  non-opec oil exporters   \n",
       "69            us trade deficit               oil costs   \n",
       "70  value-focused mutual funds     growth mutual funds   \n",
       "\n",
       "                                             chunk_id  \\\n",
       "0   5374f6ca1e304e358499f64345b6b9aa,5374f6ca1e304...   \n",
       "1   5374f6ca1e304e358499f64345b6b9aa,5374f6ca1e304...   \n",
       "2   5374f6ca1e304e358499f64345b6b9aa,5374f6ca1e304...   \n",
       "3   5374f6ca1e304e358499f64345b6b9aa,5374f6ca1e304...   \n",
       "4   5374f6ca1e304e358499f64345b6b9aa,5374f6ca1e304...   \n",
       "..                                                ...   \n",
       "66  5374f6ca1e304e358499f64345b6b9aa,5374f6ca1e304...   \n",
       "67                   5374f6ca1e304e358499f64345b6b9aa   \n",
       "68  a92d82dfe6594b7d97fb0d5255f590f1,a92d82dfe6594...   \n",
       "69                   5c9e02945d5444808f8ea2a7875f73d1   \n",
       "70                   5c9e02945d5444808f8ea2a7875f73d1   \n",
       "\n",
       "                                                 edge  count  \n",
       "0                                contextual proximity      2  \n",
       "1                                contextual proximity      2  \n",
       "2   The Gateway Artisan Block is a key area of Cen...      6  \n",
       "3                                contextual proximity      2  \n",
       "4                                contextual proximity      2  \n",
       "..                                                ...    ...  \n",
       "66                               contextual proximity      2  \n",
       "67  Stein proposes that the government sell titles...      4  \n",
       "68                               contextual proximity      2  \n",
       "69  relationship between the record US trade defic...      4  \n",
       "70  relationship between outperforming value-focus...      4  \n",
       "\n",
       "[71 rows x 5 columns]"
      ]
     },
     "execution_count": 11,
     "metadata": {},
     "output_type": "execute_result"
    }
   ],
   "source": [
    "dfg = pd.concat([dfg1, dfg2], axis=0)\n",
    "dfg = (\n",
    "    dfg.groupby([\"node_1\", \"node_2\"])\n",
    "    .agg({\"chunk_id\": \",\".join, \"edge\": ','.join, 'count': 'sum'})\n",
    "    .reset_index()\n",
    ")\n",
    "dfg"
   ]
  },
  {
   "cell_type": "markdown",
   "metadata": {},
   "source": [
    "## Calculate the NetworkX Graph"
   ]
  },
  {
   "cell_type": "code",
   "execution_count": 12,
   "metadata": {},
   "outputs": [
    {
     "data": {
      "text/plain": [
       "(63,)"
      ]
     },
     "execution_count": 12,
     "metadata": {},
     "output_type": "execute_result"
    }
   ],
   "source": [
    "nodes = pd.concat([dfg['node_1'], dfg['node_2']], axis=0).unique()\n",
    "nodes.shape"
   ]
  },
  {
   "cell_type": "code",
   "execution_count": 13,
   "metadata": {},
   "outputs": [],
   "source": [
    "import networkx as nx\n",
    "G = nx.Graph()\n",
    "\n",
    "## Add nodes to the graph\n",
    "for node in nodes:\n",
    "    G.add_node(\n",
    "        str(node)\n",
    "    )\n",
    "\n",
    "## Add edges to the graph\n",
    "for index, row in dfg.iterrows():\n",
    "    G.add_edge(\n",
    "        str(row[\"node_1\"]),\n",
    "        str(row[\"node_2\"]),\n",
    "        title=row[\"edge\"],\n",
    "        weight=row['count']/4\n",
    "    )"
   ]
  },
  {
   "cell_type": "markdown",
   "metadata": {},
   "source": [
    "### Calculate communities for coloring the nodes"
   ]
  },
  {
   "cell_type": "code",
   "execution_count": 14,
   "metadata": {},
   "outputs": [
    {
     "name": "stdout",
     "output_type": "stream",
     "text": [
      "Number of Communities =  23\n",
      "[['assets', 'retail money market mutual funds'], ['back-to-school season', 'kids'], ['central square in lynn', 'dell', 'gary winnick', 'global crossing', 'government', 'kevin b. rollins', 'large loss', 'lynn', 'oil', 'quality distribution', 'russia', 'united states'], ['dollar', \"economy's recovery\"], ['domestic and corporate spending', 'japan'], ['e-mail', \"internet's killer application\"], ['elderly relatives', 'finances'], ['eurozone economy', 'slowdown later in the year'], ['gateway artisan block'], ['google', 'public offering'], ['google inc.', 'ipo', 'us securities regulators'], ['growth mutual funds', 'value-focused mutual funds'], ['heart disease drugs', 'nitromed inc.'], ['indian engineers', 'network rail'], ['infrastructure', 'oil export flows'], ['july', 'retail sales'], ['massachusetts', 'sales tax holiday'], ['non-opec oil exporters', 'opec', 'record crude prices', 'reuters', 'scorching oil prices', 'short-sellers', 'stock market', 'summer doldrums', 'well-timed and occasionally controversial plays in the defense industry'], ['oil costs', 'us trade deficit'], ['oil prices', 'wallets'], ['rand', 'south african central bank'], ['saudi arabia mobile phone licences', \"uae's etisalat\"], ['shell', 'total']]\n"
     ]
    }
   ],
   "source": [
    "communities_generator = nx.community.girvan_newman(G)\n",
    "top_level_communities = next(communities_generator)\n",
    "next_level_communities = next(communities_generator)\n",
    "communities = sorted(map(sorted, next_level_communities))\n",
    "print(\"Number of Communities = \", len(communities))\n",
    "print(communities)"
   ]
  },
  {
   "cell_type": "markdown",
   "metadata": {},
   "source": [
    "### Create a dataframe for community colors"
   ]
  },
  {
   "cell_type": "code",
   "execution_count": 15,
   "metadata": {},
   "outputs": [
    {
     "data": {
      "text/html": [
       "<div>\n",
       "<style scoped>\n",
       "    .dataframe tbody tr th:only-of-type {\n",
       "        vertical-align: middle;\n",
       "    }\n",
       "\n",
       "    .dataframe tbody tr th {\n",
       "        vertical-align: top;\n",
       "    }\n",
       "\n",
       "    .dataframe thead th {\n",
       "        text-align: right;\n",
       "    }\n",
       "</style>\n",
       "<table border=\"1\" class=\"dataframe\">\n",
       "  <thead>\n",
       "    <tr style=\"text-align: right;\">\n",
       "      <th></th>\n",
       "      <th>node</th>\n",
       "      <th>color</th>\n",
       "      <th>group</th>\n",
       "    </tr>\n",
       "  </thead>\n",
       "  <tbody>\n",
       "    <tr>\n",
       "      <th>0</th>\n",
       "      <td>assets</td>\n",
       "      <td>#db5771</td>\n",
       "      <td>1</td>\n",
       "    </tr>\n",
       "    <tr>\n",
       "      <th>1</th>\n",
       "      <td>retail money market mutual funds</td>\n",
       "      <td>#db5771</td>\n",
       "      <td>1</td>\n",
       "    </tr>\n",
       "    <tr>\n",
       "      <th>2</th>\n",
       "      <td>back-to-school season</td>\n",
       "      <td>#57db6a</td>\n",
       "      <td>2</td>\n",
       "    </tr>\n",
       "    <tr>\n",
       "      <th>3</th>\n",
       "      <td>kids</td>\n",
       "      <td>#57db6a</td>\n",
       "      <td>2</td>\n",
       "    </tr>\n",
       "    <tr>\n",
       "      <th>4</th>\n",
       "      <td>central square in lynn</td>\n",
       "      <td>#abdb57</td>\n",
       "      <td>3</td>\n",
       "    </tr>\n",
       "    <tr>\n",
       "      <th>...</th>\n",
       "      <td>...</td>\n",
       "      <td>...</td>\n",
       "      <td>...</td>\n",
       "    </tr>\n",
       "    <tr>\n",
       "      <th>58</th>\n",
       "      <td>south african central bank</td>\n",
       "      <td>#bb57db</td>\n",
       "      <td>21</td>\n",
       "    </tr>\n",
       "    <tr>\n",
       "      <th>59</th>\n",
       "      <td>saudi arabia mobile phone licences</td>\n",
       "      <td>#db8157</td>\n",
       "      <td>22</td>\n",
       "    </tr>\n",
       "    <tr>\n",
       "      <th>60</th>\n",
       "      <td>uae's etisalat</td>\n",
       "      <td>#db8157</td>\n",
       "      <td>22</td>\n",
       "    </tr>\n",
       "    <tr>\n",
       "      <th>61</th>\n",
       "      <td>shell</td>\n",
       "      <td>#db57d9</td>\n",
       "      <td>23</td>\n",
       "    </tr>\n",
       "    <tr>\n",
       "      <th>62</th>\n",
       "      <td>total</td>\n",
       "      <td>#db57d9</td>\n",
       "      <td>23</td>\n",
       "    </tr>\n",
       "  </tbody>\n",
       "</table>\n",
       "<p>63 rows × 3 columns</p>\n",
       "</div>"
      ],
      "text/plain": [
       "                                  node    color  group\n",
       "0                               assets  #db5771      1\n",
       "1     retail money market mutual funds  #db5771      1\n",
       "2                back-to-school season  #57db6a      2\n",
       "3                                 kids  #57db6a      2\n",
       "4               central square in lynn  #abdb57      3\n",
       "..                                 ...      ...    ...\n",
       "58          south african central bank  #bb57db     21\n",
       "59  saudi arabia mobile phone licences  #db8157     22\n",
       "60                      uae's etisalat  #db8157     22\n",
       "61                               shell  #db57d9     23\n",
       "62                               total  #db57d9     23\n",
       "\n",
       "[63 rows x 3 columns]"
      ]
     },
     "execution_count": 15,
     "metadata": {},
     "output_type": "execute_result"
    }
   ],
   "source": [
    "import seaborn as sns\n",
    "palette = \"hls\"\n",
    "\n",
    "## Now add these colors to communities and make another dataframe\n",
    "def colors2Community(communities) -> pd.DataFrame:\n",
    "    ## Define a color palette\n",
    "    p = sns.color_palette(palette, len(communities)).as_hex()\n",
    "    random.shuffle(p)\n",
    "    rows = []\n",
    "    group = 0\n",
    "    for community in communities:\n",
    "        color = p.pop()\n",
    "        group += 1\n",
    "        for node in community:\n",
    "            rows.append({\"node\": node, \"color\": color, \"group\": group})\n",
    "    df_colors = pd.DataFrame(rows)\n",
    "    return df_colors\n",
    "\n",
    "\n",
    "colors = colors2Community(communities)\n",
    "colors"
   ]
  },
  {
   "cell_type": "markdown",
   "metadata": {},
   "source": [
    "### Add colors to the graph"
   ]
  },
  {
   "cell_type": "code",
   "execution_count": 16,
   "metadata": {},
   "outputs": [],
   "source": [
    "for index, row in colors.iterrows():\n",
    "    G.nodes[row['node']]['group'] = row['group']\n",
    "    G.nodes[row['node']]['color'] = row['color']\n",
    "    G.nodes[row['node']]['size'] = G.degree[row['node']]"
   ]
  },
  {
   "cell_type": "code",
   "execution_count": 17,
   "metadata": {},
   "outputs": [
    {
     "name": "stdout",
     "output_type": "stream",
     "text": [
      "                                       \n",
      "[Select a Node by ID                                                    ]\n",
      "Reset Selection\n"
     ]
    }
   ],
   "source": [
    "from pyvis.network import Network\n",
    "\n",
    "graph_output_directory = \"./reports/graphs/graph.html\"\n",
    "\n",
    "net = Network(\n",
    "    notebook=False,\n",
    "    # bgcolor=\"#1a1a1a\",\n",
    "    cdn_resources=\"remote\",\n",
    "    height=\"900px\",\n",
    "    width=\"100%\",\n",
    "    select_menu=True,\n",
    "    # font_color=\"#cccccc\",\n",
    "    filter_menu=False,\n",
    ")\n",
    "\n",
    "net.from_nx(G)\n",
    "# net.repulsion(node_distance=150, spring_length=400)\n",
    "net.force_atlas_2based(central_gravity=0.015, gravity=-31)\n",
    "# net.barnes_hut(gravity=-18100, central_gravity=5.05, spring_length=380)\n",
    "net.show_buttons(filter_=[\"physics\"])\n",
    "\n",
    "net.show(graph_output_directory)"
   ]
  },
  {
   "cell_type": "code",
   "execution_count": null,
   "metadata": {
    "editable": true,
    "slideshow": {
     "slide_type": ""
    },
    "tags": []
   },
   "outputs": [],
   "source": []
  }
 ],
 "metadata": {
  "kernelspec": {
   "display_name": "Python 3 (ipykernel)",
   "language": "python",
   "name": "python3"
  },
  "language_info": {
   "codemirror_mode": {
    "name": "ipython",
    "version": 3
   },
   "file_extension": ".py",
   "mimetype": "text/x-python",
   "name": "python",
   "nbconvert_exporter": "python",
   "pygments_lexer": "ipython3",
   "version": "3.11.9"
  }
 },
 "nbformat": 4,
 "nbformat_minor": 4
}
