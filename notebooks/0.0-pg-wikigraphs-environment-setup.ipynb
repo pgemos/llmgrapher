{
 "cells": [
  {
   "cell_type": "markdown",
   "id": "6c37cc37-d123-48ad-8f4c-41c9f2d2f348",
   "metadata": {},
   "source": [
    "# Required Packages Installation"
   ]
  },
  {
   "cell_type": "code",
   "execution_count": 2,
   "id": "dbf2b31a-e51e-4a5d-93f6-d7c1f4b9b76f",
   "metadata": {},
   "outputs": [
    {
     "name": "stdout",
     "output_type": "stream",
     "text": [
      "Requirement already satisfied: pandas in /home/kleptotrace/miniforge3/envs/wikigraphs/lib/python3.11/site-packages (2.2.3)\n",
      "Requirement already satisfied: rdflib in /home/kleptotrace/miniforge3/envs/wikigraphs/lib/python3.11/site-packages (7.0.0)\n",
      "Requirement already satisfied: rdfpandas in /home/kleptotrace/miniforge3/envs/wikigraphs/lib/python3.11/site-packages (1.1.7)\n",
      "Requirement already satisfied: networkx in /home/kleptotrace/miniforge3/envs/wikigraphs/lib/python3.11/site-packages (3.3)\n",
      "Requirement already satisfied: matplotlib in /home/kleptotrace/miniforge3/envs/wikigraphs/lib/python3.11/site-packages (3.9.2)\n",
      "Requirement already satisfied: pyvis in /home/kleptotrace/miniforge3/envs/wikigraphs/lib/python3.11/site-packages (0.3.2)\n",
      "Requirement already satisfied: numpy>=1.23.2 in /home/kleptotrace/miniforge3/envs/wikigraphs/lib/python3.11/site-packages (from pandas) (2.1.1)\n",
      "Requirement already satisfied: python-dateutil>=2.8.2 in /home/kleptotrace/miniforge3/envs/wikigraphs/lib/python3.11/site-packages (from pandas) (2.9.0)\n",
      "Requirement already satisfied: pytz>=2020.1 in /home/kleptotrace/miniforge3/envs/wikigraphs/lib/python3.11/site-packages (from pandas) (2024.1)\n",
      "Requirement already satisfied: tzdata>=2022.7 in /home/kleptotrace/miniforge3/envs/wikigraphs/lib/python3.11/site-packages (from pandas) (2024.2)\n",
      "Requirement already satisfied: isodate<0.7.0,>=0.6.0 in /home/kleptotrace/miniforge3/envs/wikigraphs/lib/python3.11/site-packages (from rdflib) (0.6.1)\n",
      "Requirement already satisfied: pyparsing<4,>=2.1.0 in /home/kleptotrace/miniforge3/envs/wikigraphs/lib/python3.11/site-packages (from rdflib) (3.1.4)\n",
      "Requirement already satisfied: contourpy>=1.0.1 in /home/kleptotrace/miniforge3/envs/wikigraphs/lib/python3.11/site-packages (from matplotlib) (1.3.0)\n",
      "Requirement already satisfied: cycler>=0.10 in /home/kleptotrace/miniforge3/envs/wikigraphs/lib/python3.11/site-packages (from matplotlib) (0.12.1)\n",
      "Requirement already satisfied: fonttools>=4.22.0 in /home/kleptotrace/miniforge3/envs/wikigraphs/lib/python3.11/site-packages (from matplotlib) (4.54.1)\n",
      "Requirement already satisfied: kiwisolver>=1.3.1 in /home/kleptotrace/miniforge3/envs/wikigraphs/lib/python3.11/site-packages (from matplotlib) (1.4.7)\n",
      "Requirement already satisfied: packaging>=20.0 in /home/kleptotrace/miniforge3/envs/wikigraphs/lib/python3.11/site-packages (from matplotlib) (24.1)\n",
      "Requirement already satisfied: pillow>=8 in /home/kleptotrace/miniforge3/envs/wikigraphs/lib/python3.11/site-packages (from matplotlib) (10.4.0)\n",
      "Requirement already satisfied: ipython>=5.3.0 in /home/kleptotrace/miniforge3/envs/wikigraphs/lib/python3.11/site-packages (from pyvis) (8.27.0)\n",
      "Requirement already satisfied: jinja2>=2.9.6 in /home/kleptotrace/miniforge3/envs/wikigraphs/lib/python3.11/site-packages (from pyvis) (3.1.4)\n",
      "Requirement already satisfied: jsonpickle>=1.4.1 in /home/kleptotrace/miniforge3/envs/wikigraphs/lib/python3.11/site-packages (from pyvis) (3.3.0)\n",
      "Requirement already satisfied: decorator in /home/kleptotrace/miniforge3/envs/wikigraphs/lib/python3.11/site-packages (from ipython>=5.3.0->pyvis) (5.1.1)\n",
      "Requirement already satisfied: jedi>=0.16 in /home/kleptotrace/miniforge3/envs/wikigraphs/lib/python3.11/site-packages (from ipython>=5.3.0->pyvis) (0.19.1)\n",
      "Requirement already satisfied: matplotlib-inline in /home/kleptotrace/miniforge3/envs/wikigraphs/lib/python3.11/site-packages (from ipython>=5.3.0->pyvis) (0.1.7)\n",
      "Requirement already satisfied: prompt-toolkit<3.1.0,>=3.0.41 in /home/kleptotrace/miniforge3/envs/wikigraphs/lib/python3.11/site-packages (from ipython>=5.3.0->pyvis) (3.0.47)\n",
      "Requirement already satisfied: pygments>=2.4.0 in /home/kleptotrace/miniforge3/envs/wikigraphs/lib/python3.11/site-packages (from ipython>=5.3.0->pyvis) (2.18.0)\n",
      "Requirement already satisfied: stack-data in /home/kleptotrace/miniforge3/envs/wikigraphs/lib/python3.11/site-packages (from ipython>=5.3.0->pyvis) (0.6.2)\n",
      "Requirement already satisfied: traitlets>=5.13.0 in /home/kleptotrace/miniforge3/envs/wikigraphs/lib/python3.11/site-packages (from ipython>=5.3.0->pyvis) (5.14.3)\n",
      "Requirement already satisfied: typing-extensions>=4.6 in /home/kleptotrace/miniforge3/envs/wikigraphs/lib/python3.11/site-packages (from ipython>=5.3.0->pyvis) (4.12.2)\n",
      "Requirement already satisfied: pexpect>4.3 in /home/kleptotrace/miniforge3/envs/wikigraphs/lib/python3.11/site-packages (from ipython>=5.3.0->pyvis) (4.9.0)\n",
      "Requirement already satisfied: six in /home/kleptotrace/miniforge3/envs/wikigraphs/lib/python3.11/site-packages (from isodate<0.7.0,>=0.6.0->rdflib) (1.16.0)\n",
      "Requirement already satisfied: MarkupSafe>=2.0 in /home/kleptotrace/miniforge3/envs/wikigraphs/lib/python3.11/site-packages (from jinja2>=2.9.6->pyvis) (2.1.5)\n",
      "Requirement already satisfied: parso<0.9.0,>=0.8.3 in /home/kleptotrace/miniforge3/envs/wikigraphs/lib/python3.11/site-packages (from jedi>=0.16->ipython>=5.3.0->pyvis) (0.8.4)\n",
      "Requirement already satisfied: ptyprocess>=0.5 in /home/kleptotrace/miniforge3/envs/wikigraphs/lib/python3.11/site-packages (from pexpect>4.3->ipython>=5.3.0->pyvis) (0.7.0)\n",
      "Requirement already satisfied: wcwidth in /home/kleptotrace/miniforge3/envs/wikigraphs/lib/python3.11/site-packages (from prompt-toolkit<3.1.0,>=3.0.41->ipython>=5.3.0->pyvis) (0.2.13)\n",
      "Requirement already satisfied: executing>=1.2.0 in /home/kleptotrace/miniforge3/envs/wikigraphs/lib/python3.11/site-packages (from stack-data->ipython>=5.3.0->pyvis) (2.1.0)\n",
      "Requirement already satisfied: asttokens>=2.1.0 in /home/kleptotrace/miniforge3/envs/wikigraphs/lib/python3.11/site-packages (from stack-data->ipython>=5.3.0->pyvis) (2.4.1)\n",
      "Requirement already satisfied: pure-eval in /home/kleptotrace/miniforge3/envs/wikigraphs/lib/python3.11/site-packages (from stack-data->ipython>=5.3.0->pyvis) (0.2.3)\n"
     ]
    }
   ],
   "source": [
    "!pip install pandas rdflib rdfpandas networkx matplotlib pyvis"
   ]
  },
  {
   "cell_type": "code",
   "execution_count": 1,
   "id": "99430a53-499d-47cb-8f2f-707264aca07c",
   "metadata": {},
   "outputs": [
    {
     "name": "stdout",
     "output_type": "stream",
     "text": [
      "Requirement already satisfied: jaxlib in /home/kleptotrace/miniforge3/envs/wikigraphs/lib/python3.11/site-packages (0.4.33)\n",
      "Requirement already satisfied: jax[cuda12] in /home/kleptotrace/miniforge3/envs/wikigraphs/lib/python3.11/site-packages (0.4.33)\n",
      "Requirement already satisfied: scipy>=1.10 in /home/kleptotrace/miniforge3/envs/wikigraphs/lib/python3.11/site-packages (from jaxlib) (1.14.1)\n",
      "Requirement already satisfied: numpy>=1.24 in /home/kleptotrace/miniforge3/envs/wikigraphs/lib/python3.11/site-packages (from jaxlib) (2.1.1)\n",
      "Requirement already satisfied: ml-dtypes>=0.2.0 in /home/kleptotrace/miniforge3/envs/wikigraphs/lib/python3.11/site-packages (from jaxlib) (0.5.0)\n",
      "Requirement already satisfied: opt-einsum in /home/kleptotrace/miniforge3/envs/wikigraphs/lib/python3.11/site-packages (from jax[cuda12]) (3.3.0)\n",
      "Requirement already satisfied: jax-cuda12-plugin<=0.4.33,>=0.4.33 in /home/kleptotrace/miniforge3/envs/wikigraphs/lib/python3.11/site-packages (from jax-cuda12-plugin[with_cuda]<=0.4.33,>=0.4.33; extra == \"cuda12\"->jax[cuda12]) (0.4.33)\n",
      "Requirement already satisfied: jax-cuda12-pjrt==0.4.33 in /home/kleptotrace/miniforge3/envs/wikigraphs/lib/python3.11/site-packages (from jax-cuda12-plugin<=0.4.33,>=0.4.33->jax-cuda12-plugin[with_cuda]<=0.4.33,>=0.4.33; extra == \"cuda12\"->jax[cuda12]) (0.4.33)\n",
      "Requirement already satisfied: nvidia-cublas-cu12>=12.1.3.1 in /home/kleptotrace/miniforge3/envs/wikigraphs/lib/python3.11/site-packages (from jax-cuda12-plugin[with_cuda]<=0.4.33,>=0.4.33; extra == \"cuda12\"->jax[cuda12]) (12.6.1.4)\n",
      "Requirement already satisfied: nvidia-cuda-cupti-cu12>=12.1.105 in /home/kleptotrace/miniforge3/envs/wikigraphs/lib/python3.11/site-packages (from jax-cuda12-plugin[with_cuda]<=0.4.33,>=0.4.33; extra == \"cuda12\"->jax[cuda12]) (12.6.68)\n",
      "Requirement already satisfied: nvidia-cuda-nvcc-cu12>=12.1.105 in /home/kleptotrace/miniforge3/envs/wikigraphs/lib/python3.11/site-packages (from jax-cuda12-plugin[with_cuda]<=0.4.33,>=0.4.33; extra == \"cuda12\"->jax[cuda12]) (12.6.68)\n",
      "Requirement already satisfied: nvidia-cuda-runtime-cu12>=12.1.105 in /home/kleptotrace/miniforge3/envs/wikigraphs/lib/python3.11/site-packages (from jax-cuda12-plugin[with_cuda]<=0.4.33,>=0.4.33; extra == \"cuda12\"->jax[cuda12]) (12.6.68)\n",
      "Requirement already satisfied: nvidia-cudnn-cu12<10.0,>=9.1 in /home/kleptotrace/miniforge3/envs/wikigraphs/lib/python3.11/site-packages (from jax-cuda12-plugin[with_cuda]<=0.4.33,>=0.4.33; extra == \"cuda12\"->jax[cuda12]) (9.4.0.58)\n",
      "Requirement already satisfied: nvidia-cufft-cu12>=11.0.2.54 in /home/kleptotrace/miniforge3/envs/wikigraphs/lib/python3.11/site-packages (from jax-cuda12-plugin[with_cuda]<=0.4.33,>=0.4.33; extra == \"cuda12\"->jax[cuda12]) (11.2.6.59)\n",
      "Requirement already satisfied: nvidia-cusolver-cu12>=11.4.5.107 in /home/kleptotrace/miniforge3/envs/wikigraphs/lib/python3.11/site-packages (from jax-cuda12-plugin[with_cuda]<=0.4.33,>=0.4.33; extra == \"cuda12\"->jax[cuda12]) (11.6.4.69)\n",
      "Requirement already satisfied: nvidia-cusparse-cu12>=12.1.0.106 in /home/kleptotrace/miniforge3/envs/wikigraphs/lib/python3.11/site-packages (from jax-cuda12-plugin[with_cuda]<=0.4.33,>=0.4.33; extra == \"cuda12\"->jax[cuda12]) (12.5.3.3)\n",
      "Requirement already satisfied: nvidia-nccl-cu12>=2.18.1 in /home/kleptotrace/miniforge3/envs/wikigraphs/lib/python3.11/site-packages (from jax-cuda12-plugin[with_cuda]<=0.4.33,>=0.4.33; extra == \"cuda12\"->jax[cuda12]) (2.23.4)\n",
      "Requirement already satisfied: nvidia-nvjitlink-cu12>=12.1.105 in /home/kleptotrace/miniforge3/envs/wikigraphs/lib/python3.11/site-packages (from jax-cuda12-plugin[with_cuda]<=0.4.33,>=0.4.33; extra == \"cuda12\"->jax[cuda12]) (12.6.68)\n"
     ]
    }
   ],
   "source": [
    "!pip install -U jaxlib \"jax[cuda12]\"  # replace cuda12 with your cuda version"
   ]
  },
  {
   "cell_type": "code",
   "execution_count": 4,
   "id": "02c7fabd-06ab-41ad-9976-3000bc55473b",
   "metadata": {},
   "outputs": [
    {
     "name": "stdout",
     "output_type": "stream",
     "text": [
      "Requirement already satisfied: absl-py==0.10.0 in /home/kleptotrace/miniforge3/envs/wikigraphs/lib/python3.11/site-packages (from -r requirements.txt (line 1)) (0.10.0)\n",
      "Requirement already satisfied: dm-haiku in /home/kleptotrace/miniforge3/envs/wikigraphs/lib/python3.11/site-packages (from -r requirements.txt (line 2)) (0.0.12)\n",
      "Requirement already satisfied: jax>=0.2.13 in /home/kleptotrace/miniforge3/envs/wikigraphs/lib/python3.11/site-packages (from -r requirements.txt (line 3)) (0.4.33)\n",
      "Requirement already satisfied: jraph in /home/kleptotrace/miniforge3/envs/wikigraphs/lib/python3.11/site-packages (from -r requirements.txt (line 4)) (0.0.6.dev0)\n",
      "Requirement already satisfied: nltk>=3.6.2 in /home/kleptotrace/miniforge3/envs/wikigraphs/lib/python3.11/site-packages (from -r requirements.txt (line 5)) (3.9.1)\n",
      "Requirement already satisfied: numpy>=1.19.5 in /home/kleptotrace/miniforge3/envs/wikigraphs/lib/python3.11/site-packages (from -r requirements.txt (line 6)) (2.1.1)\n",
      "Requirement already satisfied: optax>=0.0.6 in /home/kleptotrace/miniforge3/envs/wikigraphs/lib/python3.11/site-packages (from -r requirements.txt (line 7)) (0.2.3)\n",
      "Requirement already satisfied: scikit-learn>=0.24.2 in /home/kleptotrace/miniforge3/envs/wikigraphs/lib/python3.11/site-packages (from -r requirements.txt (line 8)) (1.5.2)\n",
      "Requirement already satisfied: six in /home/kleptotrace/miniforge3/envs/wikigraphs/lib/python3.11/site-packages (from absl-py==0.10.0->-r requirements.txt (line 1)) (1.16.0)\n",
      "Requirement already satisfied: jmp>=0.0.2 in /home/kleptotrace/miniforge3/envs/wikigraphs/lib/python3.11/site-packages (from dm-haiku->-r requirements.txt (line 2)) (0.0.4)\n",
      "Requirement already satisfied: tabulate>=0.8.9 in /home/kleptotrace/miniforge3/envs/wikigraphs/lib/python3.11/site-packages (from dm-haiku->-r requirements.txt (line 2)) (0.9.0)\n",
      "Requirement already satisfied: flax>=0.7.1 in /home/kleptotrace/miniforge3/envs/wikigraphs/lib/python3.11/site-packages (from dm-haiku->-r requirements.txt (line 2)) (0.9.0)\n",
      "Requirement already satisfied: jaxlib<=0.4.33,>=0.4.33 in /home/kleptotrace/miniforge3/envs/wikigraphs/lib/python3.11/site-packages (from jax>=0.2.13->-r requirements.txt (line 3)) (0.4.33)\n",
      "Requirement already satisfied: ml-dtypes>=0.2.0 in /home/kleptotrace/miniforge3/envs/wikigraphs/lib/python3.11/site-packages (from jax>=0.2.13->-r requirements.txt (line 3)) (0.5.0)\n",
      "Requirement already satisfied: opt-einsum in /home/kleptotrace/miniforge3/envs/wikigraphs/lib/python3.11/site-packages (from jax>=0.2.13->-r requirements.txt (line 3)) (3.3.0)\n",
      "Requirement already satisfied: scipy>=1.10 in /home/kleptotrace/miniforge3/envs/wikigraphs/lib/python3.11/site-packages (from jax>=0.2.13->-r requirements.txt (line 3)) (1.14.1)\n",
      "Requirement already satisfied: click in /home/kleptotrace/miniforge3/envs/wikigraphs/lib/python3.11/site-packages (from nltk>=3.6.2->-r requirements.txt (line 5)) (8.1.7)\n",
      "Requirement already satisfied: joblib in /home/kleptotrace/miniforge3/envs/wikigraphs/lib/python3.11/site-packages (from nltk>=3.6.2->-r requirements.txt (line 5)) (1.4.2)\n",
      "Requirement already satisfied: regex>=2021.8.3 in /home/kleptotrace/miniforge3/envs/wikigraphs/lib/python3.11/site-packages (from nltk>=3.6.2->-r requirements.txt (line 5)) (2024.9.11)\n",
      "Requirement already satisfied: tqdm in /home/kleptotrace/miniforge3/envs/wikigraphs/lib/python3.11/site-packages (from nltk>=3.6.2->-r requirements.txt (line 5)) (4.66.5)\n",
      "Requirement already satisfied: chex>=0.1.86 in /home/kleptotrace/miniforge3/envs/wikigraphs/lib/python3.11/site-packages (from optax>=0.0.6->-r requirements.txt (line 7)) (0.1.86)\n",
      "Requirement already satisfied: etils[epy] in /home/kleptotrace/miniforge3/envs/wikigraphs/lib/python3.11/site-packages (from optax>=0.0.6->-r requirements.txt (line 7)) (1.9.4)\n",
      "Requirement already satisfied: threadpoolctl>=3.1.0 in /home/kleptotrace/miniforge3/envs/wikigraphs/lib/python3.11/site-packages (from scikit-learn>=0.24.2->-r requirements.txt (line 8)) (3.5.0)\n",
      "Requirement already satisfied: typing-extensions>=4.2.0 in /home/kleptotrace/miniforge3/envs/wikigraphs/lib/python3.11/site-packages (from chex>=0.1.86->optax>=0.0.6->-r requirements.txt (line 7)) (4.12.2)\n",
      "Requirement already satisfied: toolz>=0.9.0 in /home/kleptotrace/miniforge3/envs/wikigraphs/lib/python3.11/site-packages (from chex>=0.1.86->optax>=0.0.6->-r requirements.txt (line 7)) (0.12.1)\n",
      "Requirement already satisfied: msgpack in /home/kleptotrace/miniforge3/envs/wikigraphs/lib/python3.11/site-packages (from flax>=0.7.1->dm-haiku->-r requirements.txt (line 2)) (1.1.0)\n",
      "Requirement already satisfied: orbax-checkpoint in /home/kleptotrace/miniforge3/envs/wikigraphs/lib/python3.11/site-packages (from flax>=0.7.1->dm-haiku->-r requirements.txt (line 2)) (0.6.4)\n",
      "Requirement already satisfied: tensorstore in /home/kleptotrace/miniforge3/envs/wikigraphs/lib/python3.11/site-packages (from flax>=0.7.1->dm-haiku->-r requirements.txt (line 2)) (0.1.65)\n",
      "Requirement already satisfied: rich>=11.1 in /home/kleptotrace/miniforge3/envs/wikigraphs/lib/python3.11/site-packages (from flax>=0.7.1->dm-haiku->-r requirements.txt (line 2)) (13.8.1)\n",
      "Requirement already satisfied: PyYAML>=5.4.1 in /home/kleptotrace/miniforge3/envs/wikigraphs/lib/python3.11/site-packages (from flax>=0.7.1->dm-haiku->-r requirements.txt (line 2)) (6.0.2)\n",
      "Requirement already satisfied: markdown-it-py>=2.2.0 in /home/kleptotrace/miniforge3/envs/wikigraphs/lib/python3.11/site-packages (from rich>=11.1->flax>=0.7.1->dm-haiku->-r requirements.txt (line 2)) (3.0.0)\n",
      "Requirement already satisfied: pygments<3.0.0,>=2.13.0 in /home/kleptotrace/miniforge3/envs/wikigraphs/lib/python3.11/site-packages (from rich>=11.1->flax>=0.7.1->dm-haiku->-r requirements.txt (line 2)) (2.18.0)\n",
      "Requirement already satisfied: nest_asyncio in /home/kleptotrace/miniforge3/envs/wikigraphs/lib/python3.11/site-packages (from orbax-checkpoint->flax>=0.7.1->dm-haiku->-r requirements.txt (line 2)) (1.6.0)\n",
      "Requirement already satisfied: protobuf in /home/kleptotrace/miniforge3/envs/wikigraphs/lib/python3.11/site-packages (from orbax-checkpoint->flax>=0.7.1->dm-haiku->-r requirements.txt (line 2)) (5.28.2)\n",
      "Requirement already satisfied: humanize in /home/kleptotrace/miniforge3/envs/wikigraphs/lib/python3.11/site-packages (from orbax-checkpoint->flax>=0.7.1->dm-haiku->-r requirements.txt (line 2)) (4.10.0)\n",
      "Requirement already satisfied: mdurl~=0.1 in /home/kleptotrace/miniforge3/envs/wikigraphs/lib/python3.11/site-packages (from markdown-it-py>=2.2.0->rich>=11.1->flax>=0.7.1->dm-haiku->-r requirements.txt (line 2)) (0.1.2)\n",
      "Requirement already satisfied: fsspec in /home/kleptotrace/miniforge3/envs/wikigraphs/lib/python3.11/site-packages (from etils[epy]->optax>=0.0.6->-r requirements.txt (line 7)) (2024.9.0)\n",
      "Requirement already satisfied: importlib_resources in /home/kleptotrace/miniforge3/envs/wikigraphs/lib/python3.11/site-packages (from etils[epy]->optax>=0.0.6->-r requirements.txt (line 7)) (6.4.5)\n",
      "Requirement already satisfied: zipp in /home/kleptotrace/miniforge3/envs/wikigraphs/lib/python3.11/site-packages (from etils[epy]->optax>=0.0.6->-r requirements.txt (line 7)) (3.20.2)\n"
     ]
    }
   ],
   "source": [
    "!pip install -r requirements.txt"
   ]
  },
  {
   "cell_type": "code",
   "execution_count": 5,
   "id": "13745123-fb60-4362-a811-c54f1a1206b2",
   "metadata": {},
   "outputs": [
    {
     "name": "stdout",
     "output_type": "stream",
     "text": [
      "Obtaining file:///home/kleptotrace/Projects/git/dsit_thesis/deepmind-research/wikigraphs\n",
      "  Preparing metadata (setup.py) ... \u001b[?25ldone\n",
      "\u001b[?25hInstalling collected packages: wikigraphs\n",
      "  Attempting uninstall: wikigraphs\n",
      "    Found existing installation: wikigraphs 0.1.0\n",
      "    Uninstalling wikigraphs-0.1.0:\n",
      "      Successfully uninstalled wikigraphs-0.1.0\n",
      "\u001b[33m  DEPRECATION: Legacy editable install of wikigraphs==0.1.0 from file:///home/kleptotrace/Projects/git/dsit_thesis/deepmind-research/wikigraphs (setup.py develop) is deprecated. pip 25.0 will enforce this behaviour change. A possible replacement is to add a pyproject.toml or enable --use-pep517, and use setuptools >= 64. If the resulting installation is not behaving as expected, try using --config-settings editable_mode=compat. Please consult the setuptools documentation for more information. Discussion can be found at https://github.com/pypa/pip/issues/11457\u001b[0m\u001b[33m\n",
      "\u001b[0m  Running setup.py develop for wikigraphs\n",
      "Successfully installed wikigraphs-0.1.0\n",
      "Note: you may need to restart the kernel to use updated packages.\n"
     ]
    }
   ],
   "source": [
    "pip install -e ."
   ]
  },
  {
   "cell_type": "markdown",
   "id": "38af6198-5291-4f76-b16a-ead62a1a4cf8",
   "metadata": {},
   "source": [
    "# Dataset Preparation\n",
    "Note: The default `/tmp/data` folder was changed to the relative path `./data`. To do this, it had to be searched and replaced in every place in the source code of wikigraphs."
   ]
  },
  {
   "cell_type": "code",
   "execution_count": null,
   "id": "e3eed5f0-75d3-47fe-a636-54e946ea488c",
   "metadata": {},
   "outputs": [],
   "source": [
    "# Dataset Download\n",
    "!bash scripts/download.sh"
   ]
  },
  {
   "cell_type": "code",
   "execution_count": null,
   "id": "9cc77492-e126-467a-8d96-0da6de74634e",
   "metadata": {},
   "outputs": [],
   "source": [
    "# Building WikiText Vocabulary\n",
    "!python scripts/build_vocab.py \\\n",
    "  --vocab_file_path=./data/wikitext-vocab.csv \\\n",
    "  --data_dir=./data/wikitext-103"
   ]
  },
  {
   "cell_type": "code",
   "execution_count": null,
   "id": "037245c2-4f8f-49b0-a305-5ded4f1763ec",
   "metadata": {},
   "outputs": [],
   "source": [
    "# Paring Freebase graphs with WikiText\n",
    "!python scripts/freebase_preprocess.py \\\n",
    "  --freebase_dir=./data/freebase/max256 \\\n",
    "  --output_dir=./data/wikigraphs/max256"
   ]
  },
  {
   "cell_type": "code",
   "execution_count": null,
   "id": "3e835339-55c0-4d26-bec3-c60270be05b8",
   "metadata": {},
   "outputs": [],
   "source": [
    "# Building Graph Vocabulary\n",
    "!python scripts/build_vocab.py \\\n",
    "  --vocab_file_path=./data/graph-vocab.csv \\\n",
    "  --data_dir=./data/wikigraphs \\\n",
    "  --version=max256 \\\n",
    "  --data_type=graph \\\n",
    "  --threshold=15  # each token in the vocabulary appearing at least 15 times"
   ]
  },
  {
   "cell_type": "code",
   "execution_count": null,
   "id": "18d490aa-086f-4d41-856b-a9d7a1a8e3fc",
   "metadata": {},
   "outputs": [],
   "source": [
    "# Build Text Vocabulary (for the text part of the graph-text pairs)\n",
    "!python scripts/build_vocab.py \\\n",
    "  --vocab_file_path=./data/text-vocab.csv \\\n",
    "  --data_dir=./data/wikigraphs \\\n",
    "  --version=max256 \\\n",
    "  --data_type=text \\\n",
    "  --threshold=3 # 3 is also used as a threshold by the original WikiText-103 data"
   ]
  }
 ],
 "metadata": {
  "kernelspec": {
   "display_name": "Python [conda env:wikigraphs]",
   "language": "python",
   "name": "conda-env-wikigraphs-py"
  },
  "language_info": {
   "codemirror_mode": {
    "name": "ipython",
    "version": 3
   },
   "file_extension": ".py",
   "mimetype": "text/x-python",
   "name": "python",
   "nbconvert_exporter": "python",
   "pygments_lexer": "ipython3",
   "version": "3.11.10"
  }
 },
 "nbformat": 4,
 "nbformat_minor": 5
}
